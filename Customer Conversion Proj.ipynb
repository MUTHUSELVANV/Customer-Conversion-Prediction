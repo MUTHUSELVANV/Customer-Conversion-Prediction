{
 "cells": [
  {
   "cell_type": "code",
   "execution_count": 1,
   "id": "fc5a16e4",
   "metadata": {},
   "outputs": [],
   "source": [
    "import matplotlib.pyplot as plt\n",
    "import pandas as pd\n",
    "import numpy as np\n",
    "from sklearn.neighbors import KNeighborsClassifier\n",
    "#from sklearn import datasets, neighbors\n",
    "from sklearn.linear_model import LogisticRegression\n",
    "from mlxtend.plotting import plot_decision_regions # used to plot the decision boundary of ml algorithms\n",
    "from sklearn.model_selection import cross_val_score # import all the functions reqd for cross validation\n",
    "from sklearn.model_selection import train_test_split\n",
    "from sklearn.preprocessing import StandardScaler \n",
    "import seaborn as sns"
   ]
  },
  {
   "cell_type": "markdown",
   "id": "24a7a345",
   "metadata": {},
   "source": [
    "# Data "
   ]
  },
  {
   "cell_type": "code",
   "execution_count": 2,
   "id": "9e4fc8b1",
   "metadata": {},
   "outputs": [],
   "source": [
    "data = pd.read_csv('train.csv')"
   ]
  },
  {
   "cell_type": "code",
   "execution_count": 3,
   "id": "0dade12c",
   "metadata": {},
   "outputs": [
    {
     "data": {
      "text/html": [
       "<div>\n",
       "<style scoped>\n",
       "    .dataframe tbody tr th:only-of-type {\n",
       "        vertical-align: middle;\n",
       "    }\n",
       "\n",
       "    .dataframe tbody tr th {\n",
       "        vertical-align: top;\n",
       "    }\n",
       "\n",
       "    .dataframe thead th {\n",
       "        text-align: right;\n",
       "    }\n",
       "</style>\n",
       "<table border=\"1\" class=\"dataframe\">\n",
       "  <thead>\n",
       "    <tr style=\"text-align: right;\">\n",
       "      <th></th>\n",
       "      <th>age</th>\n",
       "      <th>job</th>\n",
       "      <th>marital</th>\n",
       "      <th>education_qual</th>\n",
       "      <th>call_type</th>\n",
       "      <th>day</th>\n",
       "      <th>mon</th>\n",
       "      <th>dur</th>\n",
       "      <th>num_calls</th>\n",
       "      <th>prev_outcome</th>\n",
       "      <th>y</th>\n",
       "    </tr>\n",
       "  </thead>\n",
       "  <tbody>\n",
       "    <tr>\n",
       "      <th>0</th>\n",
       "      <td>58</td>\n",
       "      <td>management</td>\n",
       "      <td>married</td>\n",
       "      <td>tertiary</td>\n",
       "      <td>unknown</td>\n",
       "      <td>5</td>\n",
       "      <td>may</td>\n",
       "      <td>261</td>\n",
       "      <td>1</td>\n",
       "      <td>unknown</td>\n",
       "      <td>no</td>\n",
       "    </tr>\n",
       "    <tr>\n",
       "      <th>1</th>\n",
       "      <td>44</td>\n",
       "      <td>technician</td>\n",
       "      <td>single</td>\n",
       "      <td>secondary</td>\n",
       "      <td>unknown</td>\n",
       "      <td>5</td>\n",
       "      <td>may</td>\n",
       "      <td>151</td>\n",
       "      <td>1</td>\n",
       "      <td>unknown</td>\n",
       "      <td>no</td>\n",
       "    </tr>\n",
       "    <tr>\n",
       "      <th>2</th>\n",
       "      <td>33</td>\n",
       "      <td>entrepreneur</td>\n",
       "      <td>married</td>\n",
       "      <td>secondary</td>\n",
       "      <td>unknown</td>\n",
       "      <td>5</td>\n",
       "      <td>may</td>\n",
       "      <td>76</td>\n",
       "      <td>1</td>\n",
       "      <td>unknown</td>\n",
       "      <td>no</td>\n",
       "    </tr>\n",
       "    <tr>\n",
       "      <th>3</th>\n",
       "      <td>47</td>\n",
       "      <td>blue-collar</td>\n",
       "      <td>married</td>\n",
       "      <td>unknown</td>\n",
       "      <td>unknown</td>\n",
       "      <td>5</td>\n",
       "      <td>may</td>\n",
       "      <td>92</td>\n",
       "      <td>1</td>\n",
       "      <td>unknown</td>\n",
       "      <td>no</td>\n",
       "    </tr>\n",
       "    <tr>\n",
       "      <th>4</th>\n",
       "      <td>33</td>\n",
       "      <td>unknown</td>\n",
       "      <td>single</td>\n",
       "      <td>unknown</td>\n",
       "      <td>unknown</td>\n",
       "      <td>5</td>\n",
       "      <td>may</td>\n",
       "      <td>198</td>\n",
       "      <td>1</td>\n",
       "      <td>unknown</td>\n",
       "      <td>no</td>\n",
       "    </tr>\n",
       "  </tbody>\n",
       "</table>\n",
       "</div>"
      ],
      "text/plain": [
       "   age           job  marital education_qual call_type  day  mon  dur  \\\n",
       "0   58    management  married       tertiary   unknown    5  may  261   \n",
       "1   44    technician   single      secondary   unknown    5  may  151   \n",
       "2   33  entrepreneur  married      secondary   unknown    5  may   76   \n",
       "3   47   blue-collar  married        unknown   unknown    5  may   92   \n",
       "4   33       unknown   single        unknown   unknown    5  may  198   \n",
       "\n",
       "   num_calls prev_outcome   y  \n",
       "0          1      unknown  no  \n",
       "1          1      unknown  no  \n",
       "2          1      unknown  no  \n",
       "3          1      unknown  no  \n",
       "4          1      unknown  no  "
      ]
     },
     "execution_count": 3,
     "metadata": {},
     "output_type": "execute_result"
    }
   ],
   "source": [
    "data.head(5)"
   ]
  },
  {
   "cell_type": "code",
   "execution_count": 4,
   "id": "573ea400",
   "metadata": {},
   "outputs": [
    {
     "data": {
      "text/plain": [
       "(45211, 11)"
      ]
     },
     "execution_count": 4,
     "metadata": {},
     "output_type": "execute_result"
    }
   ],
   "source": [
    "data.shape"
   ]
  },
  {
   "cell_type": "code",
   "execution_count": 5,
   "id": "33479109",
   "metadata": {},
   "outputs": [
    {
     "data": {
      "text/plain": [
       "Index(['age', 'job', 'marital', 'education_qual', 'call_type', 'day', 'mon',\n",
       "       'dur', 'num_calls', 'prev_outcome', 'y'],\n",
       "      dtype='object')"
      ]
     },
     "execution_count": 5,
     "metadata": {},
     "output_type": "execute_result"
    }
   ],
   "source": [
    "data.columns"
   ]
  },
  {
   "cell_type": "markdown",
   "id": "9b5308eb",
   "metadata": {},
   "source": [
    "#### y encoded"
   ]
  },
  {
   "cell_type": "code",
   "execution_count": 6,
   "id": "f02323d4",
   "metadata": {},
   "outputs": [],
   "source": [
    "data.y = data.y.map({'yes':1,'no':0})"
   ]
  },
  {
   "cell_type": "markdown",
   "id": "02b2418d",
   "metadata": {},
   "source": [
    "### All datatypes are checked"
   ]
  },
  {
   "cell_type": "code",
   "execution_count": 7,
   "id": "4eb15cdf",
   "metadata": {},
   "outputs": [
    {
     "data": {
      "text/plain": [
       "age                int64\n",
       "job               object\n",
       "marital           object\n",
       "education_qual    object\n",
       "call_type         object\n",
       "day                int64\n",
       "mon               object\n",
       "dur                int64\n",
       "num_calls          int64\n",
       "prev_outcome      object\n",
       "y                  int64\n",
       "dtype: object"
      ]
     },
     "execution_count": 7,
     "metadata": {},
     "output_type": "execute_result"
    }
   ],
   "source": [
    "data.dtypes"
   ]
  },
  {
   "cell_type": "markdown",
   "id": "264efba5",
   "metadata": {},
   "source": [
    "#### Duplicates deleted"
   ]
  },
  {
   "cell_type": "code",
   "execution_count": 8,
   "id": "083a314a",
   "metadata": {},
   "outputs": [
    {
     "data": {
      "text/plain": [
       "(45211, 11)"
      ]
     },
     "execution_count": 8,
     "metadata": {},
     "output_type": "execute_result"
    }
   ],
   "source": [
    "data.shape"
   ]
  },
  {
   "cell_type": "code",
   "execution_count": 9,
   "id": "0e37e868",
   "metadata": {},
   "outputs": [],
   "source": [
    "data = data.drop_duplicates()"
   ]
  },
  {
   "cell_type": "code",
   "execution_count": 10,
   "id": "550ad575",
   "metadata": {},
   "outputs": [
    {
     "data": {
      "text/plain": [
       "(45205, 11)"
      ]
     },
     "execution_count": 10,
     "metadata": {},
     "output_type": "execute_result"
    }
   ],
   "source": [
    "data.shape"
   ]
  },
  {
   "cell_type": "markdown",
   "id": "6a75d596",
   "metadata": {},
   "source": [
    "#### Checking for nan values"
   ]
  },
  {
   "cell_type": "code",
   "execution_count": 11,
   "id": "1a3e5fba",
   "metadata": {},
   "outputs": [
    {
     "data": {
      "text/plain": [
       "age               0\n",
       "job               0\n",
       "marital           0\n",
       "education_qual    0\n",
       "call_type         0\n",
       "day               0\n",
       "mon               0\n",
       "dur               0\n",
       "num_calls         0\n",
       "prev_outcome      0\n",
       "y                 0\n",
       "dtype: int64"
      ]
     },
     "execution_count": 11,
     "metadata": {},
     "output_type": "execute_result"
    }
   ],
   "source": [
    "data.isnull().sum()"
   ]
  },
  {
   "cell_type": "markdown",
   "id": "7572a245",
   "metadata": {},
   "source": [
    "### Data Cleaning"
   ]
  },
  {
   "cell_type": "markdown",
   "id": "518712e4",
   "metadata": {},
   "source": [
    "### No need to check for nan and remove duplicates, already did "
   ]
  },
  {
   "cell_type": "markdown",
   "id": "fc8566ca",
   "metadata": {},
   "source": [
    "# 1)age"
   ]
  },
  {
   "cell_type": "code",
   "execution_count": 13,
   "id": "60633b7c",
   "metadata": {},
   "outputs": [
    {
     "data": {
      "text/html": [
       "<div>\n",
       "<style scoped>\n",
       "    .dataframe tbody tr th:only-of-type {\n",
       "        vertical-align: middle;\n",
       "    }\n",
       "\n",
       "    .dataframe tbody tr th {\n",
       "        vertical-align: top;\n",
       "    }\n",
       "\n",
       "    .dataframe thead th {\n",
       "        text-align: right;\n",
       "    }\n",
       "</style>\n",
       "<table border=\"1\" class=\"dataframe\">\n",
       "  <thead>\n",
       "    <tr style=\"text-align: right;\">\n",
       "      <th></th>\n",
       "      <th>age</th>\n",
       "      <th>job</th>\n",
       "      <th>marital</th>\n",
       "      <th>education_qual</th>\n",
       "      <th>call_type</th>\n",
       "      <th>day</th>\n",
       "      <th>mon</th>\n",
       "      <th>dur</th>\n",
       "      <th>num_calls</th>\n",
       "      <th>prev_outcome</th>\n",
       "      <th>y</th>\n",
       "    </tr>\n",
       "  </thead>\n",
       "  <tbody>\n",
       "    <tr>\n",
       "      <th>0</th>\n",
       "      <td>58</td>\n",
       "      <td>management</td>\n",
       "      <td>married</td>\n",
       "      <td>tertiary</td>\n",
       "      <td>unknown</td>\n",
       "      <td>5</td>\n",
       "      <td>may</td>\n",
       "      <td>261</td>\n",
       "      <td>1</td>\n",
       "      <td>unknown</td>\n",
       "      <td>0</td>\n",
       "    </tr>\n",
       "    <tr>\n",
       "      <th>1</th>\n",
       "      <td>44</td>\n",
       "      <td>technician</td>\n",
       "      <td>single</td>\n",
       "      <td>secondary</td>\n",
       "      <td>unknown</td>\n",
       "      <td>5</td>\n",
       "      <td>may</td>\n",
       "      <td>151</td>\n",
       "      <td>1</td>\n",
       "      <td>unknown</td>\n",
       "      <td>0</td>\n",
       "    </tr>\n",
       "    <tr>\n",
       "      <th>2</th>\n",
       "      <td>33</td>\n",
       "      <td>entrepreneur</td>\n",
       "      <td>married</td>\n",
       "      <td>secondary</td>\n",
       "      <td>unknown</td>\n",
       "      <td>5</td>\n",
       "      <td>may</td>\n",
       "      <td>76</td>\n",
       "      <td>1</td>\n",
       "      <td>unknown</td>\n",
       "      <td>0</td>\n",
       "    </tr>\n",
       "    <tr>\n",
       "      <th>3</th>\n",
       "      <td>47</td>\n",
       "      <td>blue-collar</td>\n",
       "      <td>married</td>\n",
       "      <td>unknown</td>\n",
       "      <td>unknown</td>\n",
       "      <td>5</td>\n",
       "      <td>may</td>\n",
       "      <td>92</td>\n",
       "      <td>1</td>\n",
       "      <td>unknown</td>\n",
       "      <td>0</td>\n",
       "    </tr>\n",
       "    <tr>\n",
       "      <th>4</th>\n",
       "      <td>33</td>\n",
       "      <td>unknown</td>\n",
       "      <td>single</td>\n",
       "      <td>unknown</td>\n",
       "      <td>unknown</td>\n",
       "      <td>5</td>\n",
       "      <td>may</td>\n",
       "      <td>198</td>\n",
       "      <td>1</td>\n",
       "      <td>unknown</td>\n",
       "      <td>0</td>\n",
       "    </tr>\n",
       "    <tr>\n",
       "      <th>...</th>\n",
       "      <td>...</td>\n",
       "      <td>...</td>\n",
       "      <td>...</td>\n",
       "      <td>...</td>\n",
       "      <td>...</td>\n",
       "      <td>...</td>\n",
       "      <td>...</td>\n",
       "      <td>...</td>\n",
       "      <td>...</td>\n",
       "      <td>...</td>\n",
       "      <td>...</td>\n",
       "    </tr>\n",
       "    <tr>\n",
       "      <th>45206</th>\n",
       "      <td>51</td>\n",
       "      <td>technician</td>\n",
       "      <td>married</td>\n",
       "      <td>tertiary</td>\n",
       "      <td>cellular</td>\n",
       "      <td>17</td>\n",
       "      <td>nov</td>\n",
       "      <td>977</td>\n",
       "      <td>3</td>\n",
       "      <td>unknown</td>\n",
       "      <td>1</td>\n",
       "    </tr>\n",
       "    <tr>\n",
       "      <th>45207</th>\n",
       "      <td>71</td>\n",
       "      <td>retired</td>\n",
       "      <td>divorced</td>\n",
       "      <td>primary</td>\n",
       "      <td>cellular</td>\n",
       "      <td>17</td>\n",
       "      <td>nov</td>\n",
       "      <td>456</td>\n",
       "      <td>2</td>\n",
       "      <td>unknown</td>\n",
       "      <td>1</td>\n",
       "    </tr>\n",
       "    <tr>\n",
       "      <th>45208</th>\n",
       "      <td>72</td>\n",
       "      <td>retired</td>\n",
       "      <td>married</td>\n",
       "      <td>secondary</td>\n",
       "      <td>cellular</td>\n",
       "      <td>17</td>\n",
       "      <td>nov</td>\n",
       "      <td>1127</td>\n",
       "      <td>5</td>\n",
       "      <td>success</td>\n",
       "      <td>1</td>\n",
       "    </tr>\n",
       "    <tr>\n",
       "      <th>45209</th>\n",
       "      <td>57</td>\n",
       "      <td>blue-collar</td>\n",
       "      <td>married</td>\n",
       "      <td>secondary</td>\n",
       "      <td>telephone</td>\n",
       "      <td>17</td>\n",
       "      <td>nov</td>\n",
       "      <td>508</td>\n",
       "      <td>4</td>\n",
       "      <td>unknown</td>\n",
       "      <td>0</td>\n",
       "    </tr>\n",
       "    <tr>\n",
       "      <th>45210</th>\n",
       "      <td>37</td>\n",
       "      <td>entrepreneur</td>\n",
       "      <td>married</td>\n",
       "      <td>secondary</td>\n",
       "      <td>cellular</td>\n",
       "      <td>17</td>\n",
       "      <td>nov</td>\n",
       "      <td>361</td>\n",
       "      <td>2</td>\n",
       "      <td>other</td>\n",
       "      <td>0</td>\n",
       "    </tr>\n",
       "  </tbody>\n",
       "</table>\n",
       "<p>45205 rows × 11 columns</p>\n",
       "</div>"
      ],
      "text/plain": [
       "       age           job   marital education_qual  call_type  day  mon   dur  \\\n",
       "0       58    management   married       tertiary    unknown    5  may   261   \n",
       "1       44    technician    single      secondary    unknown    5  may   151   \n",
       "2       33  entrepreneur   married      secondary    unknown    5  may    76   \n",
       "3       47   blue-collar   married        unknown    unknown    5  may    92   \n",
       "4       33       unknown    single        unknown    unknown    5  may   198   \n",
       "...    ...           ...       ...            ...        ...  ...  ...   ...   \n",
       "45206   51    technician   married       tertiary   cellular   17  nov   977   \n",
       "45207   71       retired  divorced        primary   cellular   17  nov   456   \n",
       "45208   72       retired   married      secondary   cellular   17  nov  1127   \n",
       "45209   57   blue-collar   married      secondary  telephone   17  nov   508   \n",
       "45210   37  entrepreneur   married      secondary   cellular   17  nov   361   \n",
       "\n",
       "       num_calls prev_outcome  y  \n",
       "0              1      unknown  0  \n",
       "1              1      unknown  0  \n",
       "2              1      unknown  0  \n",
       "3              1      unknown  0  \n",
       "4              1      unknown  0  \n",
       "...          ...          ... ..  \n",
       "45206          3      unknown  1  \n",
       "45207          2      unknown  1  \n",
       "45208          5      success  1  \n",
       "45209          4      unknown  0  \n",
       "45210          2        other  0  \n",
       "\n",
       "[45205 rows x 11 columns]"
      ]
     },
     "execution_count": 13,
     "metadata": {},
     "output_type": "execute_result"
    }
   ],
   "source": [
    "data"
   ]
  },
  {
   "cell_type": "code",
   "execution_count": 14,
   "id": "084566cb",
   "metadata": {},
   "outputs": [
    {
     "data": {
      "text/plain": [
       "dtype('int64')"
      ]
     },
     "execution_count": 14,
     "metadata": {},
     "output_type": "execute_result"
    }
   ],
   "source": [
    "data.age.dtype"
   ]
  },
  {
   "cell_type": "code",
   "execution_count": 15,
   "id": "74e38c01",
   "metadata": {},
   "outputs": [
    {
     "data": {
      "text/plain": [
       "count    45205.000000\n",
       "mean        40.937087\n",
       "std         10.619130\n",
       "min         18.000000\n",
       "25%         33.000000\n",
       "50%         39.000000\n",
       "75%         48.000000\n",
       "max         95.000000\n",
       "Name: age, dtype: float64"
      ]
     },
     "execution_count": 15,
     "metadata": {},
     "output_type": "execute_result"
    }
   ],
   "source": [
    "data.age.describe()"
   ]
  },
  {
   "cell_type": "markdown",
   "id": "c67e7803",
   "metadata": {},
   "source": [
    "### No need to clip the outliers"
   ]
  },
  {
   "cell_type": "code",
   "execution_count": null,
   "id": "1dd29ad9",
   "metadata": {},
   "outputs": [],
   "source": [
    "#iqr = data['age'].quantile(0.75) - data['age'].quantile(0.25)\n",
    "#upper_threshold = data['age'].quantile(0.75) + (1.5 * iqr)\n",
    "#lower_threshold = data['age'].quantile(0.25) - (1.5 * iqr)\n",
    "#print('UT  -',round(upper_threshold,3),'LT  -', round(lower_threshold,3))\n",
    "#print('Max -',round(data['age'].max(),3),'Min -',round(data['age'].min(),3))"
   ]
  },
  {
   "cell_type": "code",
   "execution_count": null,
   "id": "1219f80b",
   "metadata": {},
   "outputs": [],
   "source": [
    "#data.age = data.age.clip(min(data.age), upper_threshold)\n",
    "#data.age.describe()"
   ]
  },
  {
   "cell_type": "markdown",
   "id": "0005deeb",
   "metadata": {},
   "source": [
    "# 2)job"
   ]
  },
  {
   "cell_type": "code",
   "execution_count": null,
   "id": "65ae30e7",
   "metadata": {},
   "outputs": [],
   "source": []
  },
  {
   "cell_type": "code",
   "execution_count": 16,
   "id": "dbfcaff8",
   "metadata": {},
   "outputs": [
    {
     "data": {
      "text/html": [
       "<div>\n",
       "<style scoped>\n",
       "    .dataframe tbody tr th:only-of-type {\n",
       "        vertical-align: middle;\n",
       "    }\n",
       "\n",
       "    .dataframe tbody tr th {\n",
       "        vertical-align: top;\n",
       "    }\n",
       "\n",
       "    .dataframe thead th {\n",
       "        text-align: right;\n",
       "    }\n",
       "</style>\n",
       "<table border=\"1\" class=\"dataframe\">\n",
       "  <thead>\n",
       "    <tr style=\"text-align: right;\">\n",
       "      <th></th>\n",
       "      <th>age</th>\n",
       "      <th>job</th>\n",
       "      <th>marital</th>\n",
       "      <th>education_qual</th>\n",
       "      <th>call_type</th>\n",
       "      <th>day</th>\n",
       "      <th>mon</th>\n",
       "      <th>dur</th>\n",
       "      <th>num_calls</th>\n",
       "      <th>prev_outcome</th>\n",
       "      <th>y</th>\n",
       "    </tr>\n",
       "  </thead>\n",
       "  <tbody>\n",
       "    <tr>\n",
       "      <th>0</th>\n",
       "      <td>58</td>\n",
       "      <td>management</td>\n",
       "      <td>married</td>\n",
       "      <td>tertiary</td>\n",
       "      <td>unknown</td>\n",
       "      <td>5</td>\n",
       "      <td>may</td>\n",
       "      <td>261</td>\n",
       "      <td>1</td>\n",
       "      <td>unknown</td>\n",
       "      <td>0</td>\n",
       "    </tr>\n",
       "    <tr>\n",
       "      <th>1</th>\n",
       "      <td>44</td>\n",
       "      <td>technician</td>\n",
       "      <td>single</td>\n",
       "      <td>secondary</td>\n",
       "      <td>unknown</td>\n",
       "      <td>5</td>\n",
       "      <td>may</td>\n",
       "      <td>151</td>\n",
       "      <td>1</td>\n",
       "      <td>unknown</td>\n",
       "      <td>0</td>\n",
       "    </tr>\n",
       "    <tr>\n",
       "      <th>2</th>\n",
       "      <td>33</td>\n",
       "      <td>entrepreneur</td>\n",
       "      <td>married</td>\n",
       "      <td>secondary</td>\n",
       "      <td>unknown</td>\n",
       "      <td>5</td>\n",
       "      <td>may</td>\n",
       "      <td>76</td>\n",
       "      <td>1</td>\n",
       "      <td>unknown</td>\n",
       "      <td>0</td>\n",
       "    </tr>\n",
       "    <tr>\n",
       "      <th>3</th>\n",
       "      <td>47</td>\n",
       "      <td>blue-collar</td>\n",
       "      <td>married</td>\n",
       "      <td>unknown</td>\n",
       "      <td>unknown</td>\n",
       "      <td>5</td>\n",
       "      <td>may</td>\n",
       "      <td>92</td>\n",
       "      <td>1</td>\n",
       "      <td>unknown</td>\n",
       "      <td>0</td>\n",
       "    </tr>\n",
       "    <tr>\n",
       "      <th>4</th>\n",
       "      <td>33</td>\n",
       "      <td>unknown</td>\n",
       "      <td>single</td>\n",
       "      <td>unknown</td>\n",
       "      <td>unknown</td>\n",
       "      <td>5</td>\n",
       "      <td>may</td>\n",
       "      <td>198</td>\n",
       "      <td>1</td>\n",
       "      <td>unknown</td>\n",
       "      <td>0</td>\n",
       "    </tr>\n",
       "  </tbody>\n",
       "</table>\n",
       "</div>"
      ],
      "text/plain": [
       "   age           job  marital education_qual call_type  day  mon  dur  \\\n",
       "0   58    management  married       tertiary   unknown    5  may  261   \n",
       "1   44    technician   single      secondary   unknown    5  may  151   \n",
       "2   33  entrepreneur  married      secondary   unknown    5  may   76   \n",
       "3   47   blue-collar  married        unknown   unknown    5  may   92   \n",
       "4   33       unknown   single        unknown   unknown    5  may  198   \n",
       "\n",
       "   num_calls prev_outcome  y  \n",
       "0          1      unknown  0  \n",
       "1          1      unknown  0  \n",
       "2          1      unknown  0  \n",
       "3          1      unknown  0  \n",
       "4          1      unknown  0  "
      ]
     },
     "execution_count": 16,
     "metadata": {},
     "output_type": "execute_result"
    }
   ],
   "source": [
    "data.head(5)"
   ]
  },
  {
   "cell_type": "code",
   "execution_count": 17,
   "id": "50d96a55",
   "metadata": {},
   "outputs": [],
   "source": [
    "job = list(data.job.unique())"
   ]
  },
  {
   "cell_type": "code",
   "execution_count": 21,
   "id": "c6aed9ca",
   "metadata": {},
   "outputs": [
    {
     "data": {
      "text/plain": [
       "0.0063709766618736865"
      ]
     },
     "execution_count": 21,
     "metadata": {},
     "output_type": "execute_result"
    }
   ],
   "source": [
    "len(data.loc[data.job=='unknown'])/len(data)"
   ]
  },
  {
   "cell_type": "code",
   "execution_count": 22,
   "id": "8e265a42",
   "metadata": {},
   "outputs": [],
   "source": [
    "job_suc={}\n",
    "for i in job:\n",
    "    job_suc.update({i : (len(data.loc[(data.job==i) & (data.y==1)]) / len(data.loc[(data.job==i)]))*100}) "
   ]
  },
  {
   "cell_type": "code",
   "execution_count": 23,
   "id": "43c42479",
   "metadata": {},
   "outputs": [
    {
     "data": {
      "text/plain": [
       "{'management': 13.757005392830706,\n",
       " 'technician': 11.058451816745656,\n",
       " 'entrepreneur': 8.271687962340282,\n",
       " 'blue-collar': 7.276464542651594,\n",
       " 'unknown': 11.805555555555555,\n",
       " 'retired': 22.791519434628977,\n",
       " 'admin.': 12.205029013539653,\n",
       " 'services': 8.885143269925354,\n",
       " 'self-employed': 11.842938568714375,\n",
       " 'unemployed': 15.502686108979278,\n",
       " 'housemaid': 8.790322580645162,\n",
       " 'student': 28.678038379530918}"
      ]
     },
     "execution_count": 23,
     "metadata": {},
     "output_type": "execute_result"
    }
   ],
   "source": [
    "job_suc"
   ]
  },
  {
   "cell_type": "code",
   "execution_count": 24,
   "id": "aae894ff",
   "metadata": {},
   "outputs": [],
   "source": [
    "job_suc = pd.Series(job_suc)"
   ]
  },
  {
   "cell_type": "code",
   "execution_count": 25,
   "id": "ec7efa63",
   "metadata": {},
   "outputs": [],
   "source": [
    "job_suc = job_suc.sort_values()"
   ]
  },
  {
   "cell_type": "code",
   "execution_count": 26,
   "id": "375c1619",
   "metadata": {},
   "outputs": [
    {
     "data": {
      "text/plain": [
       "blue-collar       7.276465\n",
       "entrepreneur      8.271688\n",
       "housemaid         8.790323\n",
       "services          8.885143\n",
       "technician       11.058452\n",
       "unknown          11.805556\n",
       "self-employed    11.842939\n",
       "admin.           12.205029\n",
       "management       13.757005\n",
       "unemployed       15.502686\n",
       "retired          22.791519\n",
       "student          28.678038\n",
       "dtype: float64"
      ]
     },
     "execution_count": 26,
     "metadata": {},
     "output_type": "execute_result"
    }
   ],
   "source": [
    "job_suc"
   ]
  },
  {
   "cell_type": "code",
   "execution_count": 27,
   "id": "00a0f308",
   "metadata": {},
   "outputs": [],
   "source": [
    "rankjob = {x: i for i, x in enumerate(job_suc.index)}"
   ]
  },
  {
   "cell_type": "code",
   "execution_count": 28,
   "id": "fcfe9b39",
   "metadata": {},
   "outputs": [
    {
     "data": {
      "text/plain": [
       "{'blue-collar': 0,\n",
       " 'entrepreneur': 1,\n",
       " 'housemaid': 2,\n",
       " 'services': 3,\n",
       " 'technician': 4,\n",
       " 'unknown': 5,\n",
       " 'self-employed': 6,\n",
       " 'admin.': 7,\n",
       " 'management': 8,\n",
       " 'unemployed': 9,\n",
       " 'retired': 10,\n",
       " 'student': 11}"
      ]
     },
     "execution_count": 28,
     "metadata": {},
     "output_type": "execute_result"
    }
   ],
   "source": [
    "rankjob"
   ]
  },
  {
   "cell_type": "code",
   "execution_count": 29,
   "id": "9240d138",
   "metadata": {},
   "outputs": [],
   "source": [
    "data['job'] = data['job'].map(rankjob)"
   ]
  },
  {
   "cell_type": "code",
   "execution_count": 30,
   "id": "3d464c08",
   "metadata": {},
   "outputs": [
    {
     "data": {
      "text/html": [
       "<div>\n",
       "<style scoped>\n",
       "    .dataframe tbody tr th:only-of-type {\n",
       "        vertical-align: middle;\n",
       "    }\n",
       "\n",
       "    .dataframe tbody tr th {\n",
       "        vertical-align: top;\n",
       "    }\n",
       "\n",
       "    .dataframe thead th {\n",
       "        text-align: right;\n",
       "    }\n",
       "</style>\n",
       "<table border=\"1\" class=\"dataframe\">\n",
       "  <thead>\n",
       "    <tr style=\"text-align: right;\">\n",
       "      <th></th>\n",
       "      <th>age</th>\n",
       "      <th>job</th>\n",
       "      <th>marital</th>\n",
       "      <th>education_qual</th>\n",
       "      <th>call_type</th>\n",
       "      <th>day</th>\n",
       "      <th>mon</th>\n",
       "      <th>dur</th>\n",
       "      <th>num_calls</th>\n",
       "      <th>prev_outcome</th>\n",
       "      <th>y</th>\n",
       "    </tr>\n",
       "  </thead>\n",
       "  <tbody>\n",
       "    <tr>\n",
       "      <th>0</th>\n",
       "      <td>58</td>\n",
       "      <td>8</td>\n",
       "      <td>married</td>\n",
       "      <td>tertiary</td>\n",
       "      <td>unknown</td>\n",
       "      <td>5</td>\n",
       "      <td>may</td>\n",
       "      <td>261</td>\n",
       "      <td>1</td>\n",
       "      <td>unknown</td>\n",
       "      <td>0</td>\n",
       "    </tr>\n",
       "    <tr>\n",
       "      <th>1</th>\n",
       "      <td>44</td>\n",
       "      <td>4</td>\n",
       "      <td>single</td>\n",
       "      <td>secondary</td>\n",
       "      <td>unknown</td>\n",
       "      <td>5</td>\n",
       "      <td>may</td>\n",
       "      <td>151</td>\n",
       "      <td>1</td>\n",
       "      <td>unknown</td>\n",
       "      <td>0</td>\n",
       "    </tr>\n",
       "    <tr>\n",
       "      <th>2</th>\n",
       "      <td>33</td>\n",
       "      <td>1</td>\n",
       "      <td>married</td>\n",
       "      <td>secondary</td>\n",
       "      <td>unknown</td>\n",
       "      <td>5</td>\n",
       "      <td>may</td>\n",
       "      <td>76</td>\n",
       "      <td>1</td>\n",
       "      <td>unknown</td>\n",
       "      <td>0</td>\n",
       "    </tr>\n",
       "    <tr>\n",
       "      <th>3</th>\n",
       "      <td>47</td>\n",
       "      <td>0</td>\n",
       "      <td>married</td>\n",
       "      <td>unknown</td>\n",
       "      <td>unknown</td>\n",
       "      <td>5</td>\n",
       "      <td>may</td>\n",
       "      <td>92</td>\n",
       "      <td>1</td>\n",
       "      <td>unknown</td>\n",
       "      <td>0</td>\n",
       "    </tr>\n",
       "    <tr>\n",
       "      <th>4</th>\n",
       "      <td>33</td>\n",
       "      <td>5</td>\n",
       "      <td>single</td>\n",
       "      <td>unknown</td>\n",
       "      <td>unknown</td>\n",
       "      <td>5</td>\n",
       "      <td>may</td>\n",
       "      <td>198</td>\n",
       "      <td>1</td>\n",
       "      <td>unknown</td>\n",
       "      <td>0</td>\n",
       "    </tr>\n",
       "    <tr>\n",
       "      <th>...</th>\n",
       "      <td>...</td>\n",
       "      <td>...</td>\n",
       "      <td>...</td>\n",
       "      <td>...</td>\n",
       "      <td>...</td>\n",
       "      <td>...</td>\n",
       "      <td>...</td>\n",
       "      <td>...</td>\n",
       "      <td>...</td>\n",
       "      <td>...</td>\n",
       "      <td>...</td>\n",
       "    </tr>\n",
       "    <tr>\n",
       "      <th>45206</th>\n",
       "      <td>51</td>\n",
       "      <td>4</td>\n",
       "      <td>married</td>\n",
       "      <td>tertiary</td>\n",
       "      <td>cellular</td>\n",
       "      <td>17</td>\n",
       "      <td>nov</td>\n",
       "      <td>977</td>\n",
       "      <td>3</td>\n",
       "      <td>unknown</td>\n",
       "      <td>1</td>\n",
       "    </tr>\n",
       "    <tr>\n",
       "      <th>45207</th>\n",
       "      <td>71</td>\n",
       "      <td>10</td>\n",
       "      <td>divorced</td>\n",
       "      <td>primary</td>\n",
       "      <td>cellular</td>\n",
       "      <td>17</td>\n",
       "      <td>nov</td>\n",
       "      <td>456</td>\n",
       "      <td>2</td>\n",
       "      <td>unknown</td>\n",
       "      <td>1</td>\n",
       "    </tr>\n",
       "    <tr>\n",
       "      <th>45208</th>\n",
       "      <td>72</td>\n",
       "      <td>10</td>\n",
       "      <td>married</td>\n",
       "      <td>secondary</td>\n",
       "      <td>cellular</td>\n",
       "      <td>17</td>\n",
       "      <td>nov</td>\n",
       "      <td>1127</td>\n",
       "      <td>5</td>\n",
       "      <td>success</td>\n",
       "      <td>1</td>\n",
       "    </tr>\n",
       "    <tr>\n",
       "      <th>45209</th>\n",
       "      <td>57</td>\n",
       "      <td>0</td>\n",
       "      <td>married</td>\n",
       "      <td>secondary</td>\n",
       "      <td>telephone</td>\n",
       "      <td>17</td>\n",
       "      <td>nov</td>\n",
       "      <td>508</td>\n",
       "      <td>4</td>\n",
       "      <td>unknown</td>\n",
       "      <td>0</td>\n",
       "    </tr>\n",
       "    <tr>\n",
       "      <th>45210</th>\n",
       "      <td>37</td>\n",
       "      <td>1</td>\n",
       "      <td>married</td>\n",
       "      <td>secondary</td>\n",
       "      <td>cellular</td>\n",
       "      <td>17</td>\n",
       "      <td>nov</td>\n",
       "      <td>361</td>\n",
       "      <td>2</td>\n",
       "      <td>other</td>\n",
       "      <td>0</td>\n",
       "    </tr>\n",
       "  </tbody>\n",
       "</table>\n",
       "<p>45205 rows × 11 columns</p>\n",
       "</div>"
      ],
      "text/plain": [
       "       age  job   marital education_qual  call_type  day  mon   dur  \\\n",
       "0       58    8   married       tertiary    unknown    5  may   261   \n",
       "1       44    4    single      secondary    unknown    5  may   151   \n",
       "2       33    1   married      secondary    unknown    5  may    76   \n",
       "3       47    0   married        unknown    unknown    5  may    92   \n",
       "4       33    5    single        unknown    unknown    5  may   198   \n",
       "...    ...  ...       ...            ...        ...  ...  ...   ...   \n",
       "45206   51    4   married       tertiary   cellular   17  nov   977   \n",
       "45207   71   10  divorced        primary   cellular   17  nov   456   \n",
       "45208   72   10   married      secondary   cellular   17  nov  1127   \n",
       "45209   57    0   married      secondary  telephone   17  nov   508   \n",
       "45210   37    1   married      secondary   cellular   17  nov   361   \n",
       "\n",
       "       num_calls prev_outcome  y  \n",
       "0              1      unknown  0  \n",
       "1              1      unknown  0  \n",
       "2              1      unknown  0  \n",
       "3              1      unknown  0  \n",
       "4              1      unknown  0  \n",
       "...          ...          ... ..  \n",
       "45206          3      unknown  1  \n",
       "45207          2      unknown  1  \n",
       "45208          5      success  1  \n",
       "45209          4      unknown  0  \n",
       "45210          2        other  0  \n",
       "\n",
       "[45205 rows x 11 columns]"
      ]
     },
     "execution_count": 30,
     "metadata": {},
     "output_type": "execute_result"
    }
   ],
   "source": [
    "data"
   ]
  },
  {
   "cell_type": "code",
   "execution_count": null,
   "id": "9a88831f",
   "metadata": {},
   "outputs": [],
   "source": []
  },
  {
   "cell_type": "markdown",
   "id": "dfacd6e2",
   "metadata": {},
   "source": [
    "### 3)marital"
   ]
  },
  {
   "cell_type": "code",
   "execution_count": 32,
   "id": "322b9d96",
   "metadata": {},
   "outputs": [
    {
     "data": {
      "text/html": [
       "<div>\n",
       "<style scoped>\n",
       "    .dataframe tbody tr th:only-of-type {\n",
       "        vertical-align: middle;\n",
       "    }\n",
       "\n",
       "    .dataframe tbody tr th {\n",
       "        vertical-align: top;\n",
       "    }\n",
       "\n",
       "    .dataframe thead th {\n",
       "        text-align: right;\n",
       "    }\n",
       "</style>\n",
       "<table border=\"1\" class=\"dataframe\">\n",
       "  <thead>\n",
       "    <tr style=\"text-align: right;\">\n",
       "      <th></th>\n",
       "      <th>age</th>\n",
       "      <th>job</th>\n",
       "      <th>marital</th>\n",
       "      <th>education_qual</th>\n",
       "      <th>call_type</th>\n",
       "      <th>day</th>\n",
       "      <th>mon</th>\n",
       "      <th>dur</th>\n",
       "      <th>num_calls</th>\n",
       "      <th>prev_outcome</th>\n",
       "      <th>y</th>\n",
       "    </tr>\n",
       "  </thead>\n",
       "  <tbody>\n",
       "    <tr>\n",
       "      <th>0</th>\n",
       "      <td>58</td>\n",
       "      <td>8</td>\n",
       "      <td>married</td>\n",
       "      <td>tertiary</td>\n",
       "      <td>unknown</td>\n",
       "      <td>5</td>\n",
       "      <td>may</td>\n",
       "      <td>261</td>\n",
       "      <td>1</td>\n",
       "      <td>unknown</td>\n",
       "      <td>0</td>\n",
       "    </tr>\n",
       "    <tr>\n",
       "      <th>1</th>\n",
       "      <td>44</td>\n",
       "      <td>4</td>\n",
       "      <td>single</td>\n",
       "      <td>secondary</td>\n",
       "      <td>unknown</td>\n",
       "      <td>5</td>\n",
       "      <td>may</td>\n",
       "      <td>151</td>\n",
       "      <td>1</td>\n",
       "      <td>unknown</td>\n",
       "      <td>0</td>\n",
       "    </tr>\n",
       "    <tr>\n",
       "      <th>2</th>\n",
       "      <td>33</td>\n",
       "      <td>1</td>\n",
       "      <td>married</td>\n",
       "      <td>secondary</td>\n",
       "      <td>unknown</td>\n",
       "      <td>5</td>\n",
       "      <td>may</td>\n",
       "      <td>76</td>\n",
       "      <td>1</td>\n",
       "      <td>unknown</td>\n",
       "      <td>0</td>\n",
       "    </tr>\n",
       "    <tr>\n",
       "      <th>3</th>\n",
       "      <td>47</td>\n",
       "      <td>0</td>\n",
       "      <td>married</td>\n",
       "      <td>unknown</td>\n",
       "      <td>unknown</td>\n",
       "      <td>5</td>\n",
       "      <td>may</td>\n",
       "      <td>92</td>\n",
       "      <td>1</td>\n",
       "      <td>unknown</td>\n",
       "      <td>0</td>\n",
       "    </tr>\n",
       "    <tr>\n",
       "      <th>4</th>\n",
       "      <td>33</td>\n",
       "      <td>5</td>\n",
       "      <td>single</td>\n",
       "      <td>unknown</td>\n",
       "      <td>unknown</td>\n",
       "      <td>5</td>\n",
       "      <td>may</td>\n",
       "      <td>198</td>\n",
       "      <td>1</td>\n",
       "      <td>unknown</td>\n",
       "      <td>0</td>\n",
       "    </tr>\n",
       "    <tr>\n",
       "      <th>...</th>\n",
       "      <td>...</td>\n",
       "      <td>...</td>\n",
       "      <td>...</td>\n",
       "      <td>...</td>\n",
       "      <td>...</td>\n",
       "      <td>...</td>\n",
       "      <td>...</td>\n",
       "      <td>...</td>\n",
       "      <td>...</td>\n",
       "      <td>...</td>\n",
       "      <td>...</td>\n",
       "    </tr>\n",
       "    <tr>\n",
       "      <th>45206</th>\n",
       "      <td>51</td>\n",
       "      <td>4</td>\n",
       "      <td>married</td>\n",
       "      <td>tertiary</td>\n",
       "      <td>cellular</td>\n",
       "      <td>17</td>\n",
       "      <td>nov</td>\n",
       "      <td>977</td>\n",
       "      <td>3</td>\n",
       "      <td>unknown</td>\n",
       "      <td>1</td>\n",
       "    </tr>\n",
       "    <tr>\n",
       "      <th>45207</th>\n",
       "      <td>71</td>\n",
       "      <td>10</td>\n",
       "      <td>divorced</td>\n",
       "      <td>primary</td>\n",
       "      <td>cellular</td>\n",
       "      <td>17</td>\n",
       "      <td>nov</td>\n",
       "      <td>456</td>\n",
       "      <td>2</td>\n",
       "      <td>unknown</td>\n",
       "      <td>1</td>\n",
       "    </tr>\n",
       "    <tr>\n",
       "      <th>45208</th>\n",
       "      <td>72</td>\n",
       "      <td>10</td>\n",
       "      <td>married</td>\n",
       "      <td>secondary</td>\n",
       "      <td>cellular</td>\n",
       "      <td>17</td>\n",
       "      <td>nov</td>\n",
       "      <td>1127</td>\n",
       "      <td>5</td>\n",
       "      <td>success</td>\n",
       "      <td>1</td>\n",
       "    </tr>\n",
       "    <tr>\n",
       "      <th>45209</th>\n",
       "      <td>57</td>\n",
       "      <td>0</td>\n",
       "      <td>married</td>\n",
       "      <td>secondary</td>\n",
       "      <td>telephone</td>\n",
       "      <td>17</td>\n",
       "      <td>nov</td>\n",
       "      <td>508</td>\n",
       "      <td>4</td>\n",
       "      <td>unknown</td>\n",
       "      <td>0</td>\n",
       "    </tr>\n",
       "    <tr>\n",
       "      <th>45210</th>\n",
       "      <td>37</td>\n",
       "      <td>1</td>\n",
       "      <td>married</td>\n",
       "      <td>secondary</td>\n",
       "      <td>cellular</td>\n",
       "      <td>17</td>\n",
       "      <td>nov</td>\n",
       "      <td>361</td>\n",
       "      <td>2</td>\n",
       "      <td>other</td>\n",
       "      <td>0</td>\n",
       "    </tr>\n",
       "  </tbody>\n",
       "</table>\n",
       "<p>45205 rows × 11 columns</p>\n",
       "</div>"
      ],
      "text/plain": [
       "       age  job   marital education_qual  call_type  day  mon   dur  \\\n",
       "0       58    8   married       tertiary    unknown    5  may   261   \n",
       "1       44    4    single      secondary    unknown    5  may   151   \n",
       "2       33    1   married      secondary    unknown    5  may    76   \n",
       "3       47    0   married        unknown    unknown    5  may    92   \n",
       "4       33    5    single        unknown    unknown    5  may   198   \n",
       "...    ...  ...       ...            ...        ...  ...  ...   ...   \n",
       "45206   51    4   married       tertiary   cellular   17  nov   977   \n",
       "45207   71   10  divorced        primary   cellular   17  nov   456   \n",
       "45208   72   10   married      secondary   cellular   17  nov  1127   \n",
       "45209   57    0   married      secondary  telephone   17  nov   508   \n",
       "45210   37    1   married      secondary   cellular   17  nov   361   \n",
       "\n",
       "       num_calls prev_outcome  y  \n",
       "0              1      unknown  0  \n",
       "1              1      unknown  0  \n",
       "2              1      unknown  0  \n",
       "3              1      unknown  0  \n",
       "4              1      unknown  0  \n",
       "...          ...          ... ..  \n",
       "45206          3      unknown  1  \n",
       "45207          2      unknown  1  \n",
       "45208          5      success  1  \n",
       "45209          4      unknown  0  \n",
       "45210          2        other  0  \n",
       "\n",
       "[45205 rows x 11 columns]"
      ]
     },
     "execution_count": 32,
     "metadata": {},
     "output_type": "execute_result"
    }
   ],
   "source": [
    "data"
   ]
  },
  {
   "cell_type": "code",
   "execution_count": 33,
   "id": "8ea9d99d",
   "metadata": {},
   "outputs": [],
   "source": [
    "mar = list(data.marital.unique())"
   ]
  },
  {
   "cell_type": "code",
   "execution_count": 34,
   "id": "1a226b32",
   "metadata": {},
   "outputs": [
    {
     "data": {
      "text/plain": [
       "['married', 'single', 'divorced']"
      ]
     },
     "execution_count": 34,
     "metadata": {},
     "output_type": "execute_result"
    }
   ],
   "source": [
    "mar"
   ]
  },
  {
   "cell_type": "code",
   "execution_count": 35,
   "id": "b74e87ce",
   "metadata": {},
   "outputs": [],
   "source": [
    "mar_suc={}\n",
    "for i in mar:\n",
    "    mar_suc.update({i : (len(data.loc[(data.marital==i) & (data.y==1)]) / len(data.loc[(data.marital==i)]))*100})"
   ]
  },
  {
   "cell_type": "code",
   "execution_count": 36,
   "id": "c285229b",
   "metadata": {},
   "outputs": [
    {
     "data": {
      "text/plain": [
       "{'married': 10.124954061006983,\n",
       " 'single': 14.95151704723178,\n",
       " 'divorced': 11.945458037257538}"
      ]
     },
     "execution_count": 36,
     "metadata": {},
     "output_type": "execute_result"
    }
   ],
   "source": [
    "mar_suc"
   ]
  },
  {
   "cell_type": "code",
   "execution_count": 37,
   "id": "ae45d530",
   "metadata": {},
   "outputs": [],
   "source": [
    "mar_suc = pd.Series(mar_suc)"
   ]
  },
  {
   "cell_type": "code",
   "execution_count": 38,
   "id": "16d8ad58",
   "metadata": {},
   "outputs": [],
   "source": [
    "mar_suc = mar_suc.sort_values()"
   ]
  },
  {
   "cell_type": "code",
   "execution_count": 39,
   "id": "c44b38f7",
   "metadata": {},
   "outputs": [
    {
     "data": {
      "text/plain": [
       "married     10.124954\n",
       "divorced    11.945458\n",
       "single      14.951517\n",
       "dtype: float64"
      ]
     },
     "execution_count": 39,
     "metadata": {},
     "output_type": "execute_result"
    }
   ],
   "source": [
    "mar_suc"
   ]
  },
  {
   "cell_type": "code",
   "execution_count": 40,
   "id": "37afac5a",
   "metadata": {},
   "outputs": [],
   "source": [
    "rankmar = {x: i for i, x in enumerate(mar_suc.index)}"
   ]
  },
  {
   "cell_type": "code",
   "execution_count": 41,
   "id": "87946b5c",
   "metadata": {},
   "outputs": [
    {
     "data": {
      "text/plain": [
       "{'married': 0, 'divorced': 1, 'single': 2}"
      ]
     },
     "execution_count": 41,
     "metadata": {},
     "output_type": "execute_result"
    }
   ],
   "source": [
    "rankmar"
   ]
  },
  {
   "cell_type": "code",
   "execution_count": 42,
   "id": "5af85ad0",
   "metadata": {},
   "outputs": [],
   "source": [
    "data['marital'] = data['marital'].map(rankmar)"
   ]
  },
  {
   "cell_type": "code",
   "execution_count": 43,
   "id": "98cbf0b7",
   "metadata": {},
   "outputs": [
    {
     "data": {
      "text/html": [
       "<div>\n",
       "<style scoped>\n",
       "    .dataframe tbody tr th:only-of-type {\n",
       "        vertical-align: middle;\n",
       "    }\n",
       "\n",
       "    .dataframe tbody tr th {\n",
       "        vertical-align: top;\n",
       "    }\n",
       "\n",
       "    .dataframe thead th {\n",
       "        text-align: right;\n",
       "    }\n",
       "</style>\n",
       "<table border=\"1\" class=\"dataframe\">\n",
       "  <thead>\n",
       "    <tr style=\"text-align: right;\">\n",
       "      <th></th>\n",
       "      <th>age</th>\n",
       "      <th>job</th>\n",
       "      <th>marital</th>\n",
       "      <th>education_qual</th>\n",
       "      <th>call_type</th>\n",
       "      <th>day</th>\n",
       "      <th>mon</th>\n",
       "      <th>dur</th>\n",
       "      <th>num_calls</th>\n",
       "      <th>prev_outcome</th>\n",
       "      <th>y</th>\n",
       "    </tr>\n",
       "  </thead>\n",
       "  <tbody>\n",
       "    <tr>\n",
       "      <th>0</th>\n",
       "      <td>58</td>\n",
       "      <td>8</td>\n",
       "      <td>0</td>\n",
       "      <td>tertiary</td>\n",
       "      <td>unknown</td>\n",
       "      <td>5</td>\n",
       "      <td>may</td>\n",
       "      <td>261</td>\n",
       "      <td>1</td>\n",
       "      <td>unknown</td>\n",
       "      <td>0</td>\n",
       "    </tr>\n",
       "    <tr>\n",
       "      <th>1</th>\n",
       "      <td>44</td>\n",
       "      <td>4</td>\n",
       "      <td>2</td>\n",
       "      <td>secondary</td>\n",
       "      <td>unknown</td>\n",
       "      <td>5</td>\n",
       "      <td>may</td>\n",
       "      <td>151</td>\n",
       "      <td>1</td>\n",
       "      <td>unknown</td>\n",
       "      <td>0</td>\n",
       "    </tr>\n",
       "    <tr>\n",
       "      <th>2</th>\n",
       "      <td>33</td>\n",
       "      <td>1</td>\n",
       "      <td>0</td>\n",
       "      <td>secondary</td>\n",
       "      <td>unknown</td>\n",
       "      <td>5</td>\n",
       "      <td>may</td>\n",
       "      <td>76</td>\n",
       "      <td>1</td>\n",
       "      <td>unknown</td>\n",
       "      <td>0</td>\n",
       "    </tr>\n",
       "    <tr>\n",
       "      <th>3</th>\n",
       "      <td>47</td>\n",
       "      <td>0</td>\n",
       "      <td>0</td>\n",
       "      <td>unknown</td>\n",
       "      <td>unknown</td>\n",
       "      <td>5</td>\n",
       "      <td>may</td>\n",
       "      <td>92</td>\n",
       "      <td>1</td>\n",
       "      <td>unknown</td>\n",
       "      <td>0</td>\n",
       "    </tr>\n",
       "    <tr>\n",
       "      <th>4</th>\n",
       "      <td>33</td>\n",
       "      <td>5</td>\n",
       "      <td>2</td>\n",
       "      <td>unknown</td>\n",
       "      <td>unknown</td>\n",
       "      <td>5</td>\n",
       "      <td>may</td>\n",
       "      <td>198</td>\n",
       "      <td>1</td>\n",
       "      <td>unknown</td>\n",
       "      <td>0</td>\n",
       "    </tr>\n",
       "    <tr>\n",
       "      <th>...</th>\n",
       "      <td>...</td>\n",
       "      <td>...</td>\n",
       "      <td>...</td>\n",
       "      <td>...</td>\n",
       "      <td>...</td>\n",
       "      <td>...</td>\n",
       "      <td>...</td>\n",
       "      <td>...</td>\n",
       "      <td>...</td>\n",
       "      <td>...</td>\n",
       "      <td>...</td>\n",
       "    </tr>\n",
       "    <tr>\n",
       "      <th>45206</th>\n",
       "      <td>51</td>\n",
       "      <td>4</td>\n",
       "      <td>0</td>\n",
       "      <td>tertiary</td>\n",
       "      <td>cellular</td>\n",
       "      <td>17</td>\n",
       "      <td>nov</td>\n",
       "      <td>977</td>\n",
       "      <td>3</td>\n",
       "      <td>unknown</td>\n",
       "      <td>1</td>\n",
       "    </tr>\n",
       "    <tr>\n",
       "      <th>45207</th>\n",
       "      <td>71</td>\n",
       "      <td>10</td>\n",
       "      <td>1</td>\n",
       "      <td>primary</td>\n",
       "      <td>cellular</td>\n",
       "      <td>17</td>\n",
       "      <td>nov</td>\n",
       "      <td>456</td>\n",
       "      <td>2</td>\n",
       "      <td>unknown</td>\n",
       "      <td>1</td>\n",
       "    </tr>\n",
       "    <tr>\n",
       "      <th>45208</th>\n",
       "      <td>72</td>\n",
       "      <td>10</td>\n",
       "      <td>0</td>\n",
       "      <td>secondary</td>\n",
       "      <td>cellular</td>\n",
       "      <td>17</td>\n",
       "      <td>nov</td>\n",
       "      <td>1127</td>\n",
       "      <td>5</td>\n",
       "      <td>success</td>\n",
       "      <td>1</td>\n",
       "    </tr>\n",
       "    <tr>\n",
       "      <th>45209</th>\n",
       "      <td>57</td>\n",
       "      <td>0</td>\n",
       "      <td>0</td>\n",
       "      <td>secondary</td>\n",
       "      <td>telephone</td>\n",
       "      <td>17</td>\n",
       "      <td>nov</td>\n",
       "      <td>508</td>\n",
       "      <td>4</td>\n",
       "      <td>unknown</td>\n",
       "      <td>0</td>\n",
       "    </tr>\n",
       "    <tr>\n",
       "      <th>45210</th>\n",
       "      <td>37</td>\n",
       "      <td>1</td>\n",
       "      <td>0</td>\n",
       "      <td>secondary</td>\n",
       "      <td>cellular</td>\n",
       "      <td>17</td>\n",
       "      <td>nov</td>\n",
       "      <td>361</td>\n",
       "      <td>2</td>\n",
       "      <td>other</td>\n",
       "      <td>0</td>\n",
       "    </tr>\n",
       "  </tbody>\n",
       "</table>\n",
       "<p>45205 rows × 11 columns</p>\n",
       "</div>"
      ],
      "text/plain": [
       "       age  job  marital education_qual  call_type  day  mon   dur  num_calls  \\\n",
       "0       58    8        0       tertiary    unknown    5  may   261          1   \n",
       "1       44    4        2      secondary    unknown    5  may   151          1   \n",
       "2       33    1        0      secondary    unknown    5  may    76          1   \n",
       "3       47    0        0        unknown    unknown    5  may    92          1   \n",
       "4       33    5        2        unknown    unknown    5  may   198          1   \n",
       "...    ...  ...      ...            ...        ...  ...  ...   ...        ...   \n",
       "45206   51    4        0       tertiary   cellular   17  nov   977          3   \n",
       "45207   71   10        1        primary   cellular   17  nov   456          2   \n",
       "45208   72   10        0      secondary   cellular   17  nov  1127          5   \n",
       "45209   57    0        0      secondary  telephone   17  nov   508          4   \n",
       "45210   37    1        0      secondary   cellular   17  nov   361          2   \n",
       "\n",
       "      prev_outcome  y  \n",
       "0          unknown  0  \n",
       "1          unknown  0  \n",
       "2          unknown  0  \n",
       "3          unknown  0  \n",
       "4          unknown  0  \n",
       "...            ... ..  \n",
       "45206      unknown  1  \n",
       "45207      unknown  1  \n",
       "45208      success  1  \n",
       "45209      unknown  0  \n",
       "45210        other  0  \n",
       "\n",
       "[45205 rows x 11 columns]"
      ]
     },
     "execution_count": 43,
     "metadata": {},
     "output_type": "execute_result"
    }
   ],
   "source": [
    "data"
   ]
  },
  {
   "cell_type": "code",
   "execution_count": null,
   "id": "111ede66",
   "metadata": {},
   "outputs": [],
   "source": []
  },
  {
   "cell_type": "markdown",
   "id": "6c2f7a2f",
   "metadata": {},
   "source": [
    "### 4)education_qual"
   ]
  },
  {
   "cell_type": "code",
   "execution_count": null,
   "id": "1fc691ab",
   "metadata": {},
   "outputs": [],
   "source": [
    "data.head(5)"
   ]
  },
  {
   "cell_type": "code",
   "execution_count": null,
   "id": "ae4e4693",
   "metadata": {},
   "outputs": [],
   "source": [
    "edu = list(data.education_qual.unique())"
   ]
  },
  {
   "cell_type": "code",
   "execution_count": null,
   "id": "0f45e3f4",
   "metadata": {},
   "outputs": [],
   "source": [
    "edu_suc={}\n",
    "for i in edu:\n",
    "    edu_suc.update({i : (len(data.loc[(data.education_qual==i) & (data.y==1)]) / len(data.loc[(data.education_qual==i)]))*100})"
   ]
  },
  {
   "cell_type": "code",
   "execution_count": null,
   "id": "128b499d",
   "metadata": {},
   "outputs": [],
   "source": [
    "edu_suc"
   ]
  },
  {
   "cell_type": "code",
   "execution_count": null,
   "id": "69990221",
   "metadata": {},
   "outputs": [],
   "source": [
    "edu_suc = pd.Series(edu_suc)"
   ]
  },
  {
   "cell_type": "code",
   "execution_count": null,
   "id": "0f6f019a",
   "metadata": {},
   "outputs": [],
   "source": [
    "edu_suc"
   ]
  },
  {
   "cell_type": "code",
   "execution_count": null,
   "id": "d3713c76",
   "metadata": {},
   "outputs": [],
   "source": [
    "edu_suc = edu_suc.sort_values()"
   ]
  },
  {
   "cell_type": "code",
   "execution_count": null,
   "id": "cb50f0d8",
   "metadata": {},
   "outputs": [],
   "source": [
    "edu_suc"
   ]
  },
  {
   "cell_type": "code",
   "execution_count": null,
   "id": "936be731",
   "metadata": {},
   "outputs": [],
   "source": [
    "rankedu = {x: i for i, x in enumerate(edu_suc.index)}"
   ]
  },
  {
   "cell_type": "code",
   "execution_count": null,
   "id": "6d0fa954",
   "metadata": {},
   "outputs": [],
   "source": [
    "rankedu"
   ]
  },
  {
   "cell_type": "code",
   "execution_count": null,
   "id": "95ce1b5f",
   "metadata": {},
   "outputs": [],
   "source": [
    "data.education_qual =data.education_qual.map(rankedu)"
   ]
  },
  {
   "cell_type": "code",
   "execution_count": null,
   "id": "063cd466",
   "metadata": {},
   "outputs": [],
   "source": [
    "data"
   ]
  },
  {
   "cell_type": "code",
   "execution_count": null,
   "id": "37c025e8",
   "metadata": {},
   "outputs": [],
   "source": []
  },
  {
   "cell_type": "markdown",
   "id": "0c680687",
   "metadata": {},
   "source": [
    "### 5)call_type"
   ]
  },
  {
   "cell_type": "code",
   "execution_count": null,
   "id": "e603aaa1",
   "metadata": {},
   "outputs": [],
   "source": [
    "data.head(5)"
   ]
  },
  {
   "cell_type": "code",
   "execution_count": null,
   "id": "cc7492b2",
   "metadata": {},
   "outputs": [],
   "source": [
    "ct = list(data.call_type.unique())"
   ]
  },
  {
   "cell_type": "code",
   "execution_count": null,
   "id": "cc73f23f",
   "metadata": {},
   "outputs": [],
   "source": [
    "ct"
   ]
  },
  {
   "cell_type": "code",
   "execution_count": null,
   "id": "befc864f",
   "metadata": {},
   "outputs": [],
   "source": [
    "ct_suc={}\n",
    "for i in ct:\n",
    "    ct_suc.update({i : (len(data.loc[(data.call_type==i) & (data.y==1)]) / len(data.loc[(data.call_type==i)]))*100})"
   ]
  },
  {
   "cell_type": "code",
   "execution_count": null,
   "id": "d7b481af",
   "metadata": {},
   "outputs": [],
   "source": [
    "ct_suc"
   ]
  },
  {
   "cell_type": "code",
   "execution_count": null,
   "id": "f0e11ceb",
   "metadata": {},
   "outputs": [],
   "source": [
    "ct_suc = pd.Series(ct_suc)"
   ]
  },
  {
   "cell_type": "code",
   "execution_count": null,
   "id": "5d98e363",
   "metadata": {},
   "outputs": [],
   "source": [
    "ct_suc = ct_suc.sort_values()"
   ]
  },
  {
   "cell_type": "code",
   "execution_count": null,
   "id": "74aa44cf",
   "metadata": {},
   "outputs": [],
   "source": [
    "ct_suc"
   ]
  },
  {
   "cell_type": "code",
   "execution_count": null,
   "id": "75ae684a",
   "metadata": {},
   "outputs": [],
   "source": [
    "ctrank = {x: i for i, x in enumerate(ct_suc.index)}"
   ]
  },
  {
   "cell_type": "code",
   "execution_count": null,
   "id": "c177ee6c",
   "metadata": {},
   "outputs": [],
   "source": [
    "ctrank"
   ]
  },
  {
   "cell_type": "code",
   "execution_count": null,
   "id": "9eb910d6",
   "metadata": {},
   "outputs": [],
   "source": [
    "data.call_type =data.call_type.map(ctrank)"
   ]
  },
  {
   "cell_type": "markdown",
   "id": "6f4b7b00",
   "metadata": {},
   "source": [
    "### 6) day"
   ]
  },
  {
   "cell_type": "code",
   "execution_count": 31,
   "id": "9746d565",
   "metadata": {},
   "outputs": [
    {
     "data": {
      "text/plain": [
       "array([ 5,  6,  7,  8,  9, 12, 13, 14, 15, 16, 19, 20, 21, 23, 26, 27, 28,\n",
       "       29, 30,  2,  3,  4, 11, 17, 18, 24, 25,  1, 10, 22, 31],\n",
       "      dtype=int64)"
      ]
     },
     "execution_count": 31,
     "metadata": {},
     "output_type": "execute_result"
    }
   ],
   "source": [
    "data.day.unique()"
   ]
  },
  {
   "cell_type": "code",
   "execution_count": 45,
   "id": "24e3a8dd",
   "metadata": {},
   "outputs": [],
   "source": [
    "da = list(data.day.unique())"
   ]
  },
  {
   "cell_type": "code",
   "execution_count": null,
   "id": "fb4b4b76",
   "metadata": {},
   "outputs": [],
   "source": [
    "da"
   ]
  },
  {
   "cell_type": "code",
   "execution_count": 47,
   "id": "769e9f47",
   "metadata": {},
   "outputs": [],
   "source": [
    "da_suc={}\n",
    "for i in da:\n",
    "    da_suc.update({i : (len(data.loc[(data.day==i) & (data.y==1)]) / len(data.loc[(data.day==i)]))*100})"
   ]
  },
  {
   "cell_type": "code",
   "execution_count": 48,
   "id": "6ad40d29",
   "metadata": {},
   "outputs": [
    {
     "data": {
      "text/plain": [
       "{5: 11.2565445026178,\n",
       " 6: 9.368530020703934,\n",
       " 7: 8.640616400660429,\n",
       " 8: 10.92391304347826,\n",
       " 9: 11.474358974358974,\n",
       " 12: 15.221459762944479,\n",
       " 13: 15.205047318611985,\n",
       " 14: 11.363636363636363,\n",
       " 15: 13.975337639459775,\n",
       " 16: 13.568904593639575,\n",
       " 19: 6.947608200455581,\n",
       " 20: 6.976744186046512,\n",
       " 21: 9.921026653504441,\n",
       " 23: 13.418530351437699,\n",
       " 26: 11.207729468599034,\n",
       " 27: 13.380909901873327,\n",
       " 28: 7.818480043739748,\n",
       " 29: 7.392550143266476,\n",
       " 30: 17.305236270753515,\n",
       " 2: 14.086687306501547,\n",
       " 3: 16.4967562557924,\n",
       " 4: 15.916955017301039,\n",
       " 11: 12.237998647734956,\n",
       " 17: 9.076843733883445,\n",
       " 18: 9.878682842287695,\n",
       " 24: 13.870246085011187,\n",
       " 25: 15.833333333333332,\n",
       " 1: 27.95031055900621,\n",
       " 10: 23.091603053435115,\n",
       " 22: 17.016574585635357,\n",
       " 31: 7.153965785381026}"
      ]
     },
     "execution_count": 48,
     "metadata": {},
     "output_type": "execute_result"
    }
   ],
   "source": [
    "da_suc"
   ]
  },
  {
   "cell_type": "code",
   "execution_count": 49,
   "id": "dc43d90c",
   "metadata": {},
   "outputs": [],
   "source": [
    "da_suc = pd.Series(da_suc)"
   ]
  },
  {
   "cell_type": "code",
   "execution_count": 50,
   "id": "972992cf",
   "metadata": {},
   "outputs": [],
   "source": [
    "da_suc = da_suc.sort_values()"
   ]
  },
  {
   "cell_type": "code",
   "execution_count": 51,
   "id": "a2feac92",
   "metadata": {},
   "outputs": [
    {
     "data": {
      "text/plain": [
       "19     6.947608\n",
       "20     6.976744\n",
       "31     7.153966\n",
       "29     7.392550\n",
       "28     7.818480\n",
       "7      8.640616\n",
       "17     9.076844\n",
       "6      9.368530\n",
       "18     9.878683\n",
       "21     9.921027\n",
       "8     10.923913\n",
       "26    11.207729\n",
       "5     11.256545\n",
       "14    11.363636\n",
       "9     11.474359\n",
       "11    12.237999\n",
       "27    13.380910\n",
       "23    13.418530\n",
       "16    13.568905\n",
       "24    13.870246\n",
       "15    13.975338\n",
       "2     14.086687\n",
       "13    15.205047\n",
       "12    15.221460\n",
       "25    15.833333\n",
       "4     15.916955\n",
       "3     16.496756\n",
       "22    17.016575\n",
       "30    17.305236\n",
       "10    23.091603\n",
       "1     27.950311\n",
       "dtype: float64"
      ]
     },
     "execution_count": 51,
     "metadata": {},
     "output_type": "execute_result"
    }
   ],
   "source": [
    "da_suc"
   ]
  },
  {
   "cell_type": "code",
   "execution_count": 52,
   "id": "92b24214",
   "metadata": {},
   "outputs": [],
   "source": [
    "darank = {x: i for i, x in enumerate(da_suc.index)}"
   ]
  },
  {
   "cell_type": "code",
   "execution_count": 53,
   "id": "6b0e558b",
   "metadata": {},
   "outputs": [
    {
     "data": {
      "text/plain": [
       "{19: 0,\n",
       " 20: 1,\n",
       " 31: 2,\n",
       " 29: 3,\n",
       " 28: 4,\n",
       " 7: 5,\n",
       " 17: 6,\n",
       " 6: 7,\n",
       " 18: 8,\n",
       " 21: 9,\n",
       " 8: 10,\n",
       " 26: 11,\n",
       " 5: 12,\n",
       " 14: 13,\n",
       " 9: 14,\n",
       " 11: 15,\n",
       " 27: 16,\n",
       " 23: 17,\n",
       " 16: 18,\n",
       " 24: 19,\n",
       " 15: 20,\n",
       " 2: 21,\n",
       " 13: 22,\n",
       " 12: 23,\n",
       " 25: 24,\n",
       " 4: 25,\n",
       " 3: 26,\n",
       " 22: 27,\n",
       " 30: 28,\n",
       " 10: 29,\n",
       " 1: 30}"
      ]
     },
     "execution_count": 53,
     "metadata": {},
     "output_type": "execute_result"
    }
   ],
   "source": [
    "darank"
   ]
  },
  {
   "cell_type": "code",
   "execution_count": 54,
   "id": "7b166709",
   "metadata": {},
   "outputs": [],
   "source": [
    "data.day =data.day.map(darank)"
   ]
  },
  {
   "cell_type": "code",
   "execution_count": 55,
   "id": "c4ac3429",
   "metadata": {},
   "outputs": [
    {
     "data": {
      "text/html": [
       "<div>\n",
       "<style scoped>\n",
       "    .dataframe tbody tr th:only-of-type {\n",
       "        vertical-align: middle;\n",
       "    }\n",
       "\n",
       "    .dataframe tbody tr th {\n",
       "        vertical-align: top;\n",
       "    }\n",
       "\n",
       "    .dataframe thead th {\n",
       "        text-align: right;\n",
       "    }\n",
       "</style>\n",
       "<table border=\"1\" class=\"dataframe\">\n",
       "  <thead>\n",
       "    <tr style=\"text-align: right;\">\n",
       "      <th></th>\n",
       "      <th>age</th>\n",
       "      <th>job</th>\n",
       "      <th>marital</th>\n",
       "      <th>education_qual</th>\n",
       "      <th>call_type</th>\n",
       "      <th>day</th>\n",
       "      <th>mon</th>\n",
       "      <th>dur</th>\n",
       "      <th>num_calls</th>\n",
       "      <th>prev_outcome</th>\n",
       "      <th>y</th>\n",
       "    </tr>\n",
       "  </thead>\n",
       "  <tbody>\n",
       "    <tr>\n",
       "      <th>0</th>\n",
       "      <td>58</td>\n",
       "      <td>8</td>\n",
       "      <td>0</td>\n",
       "      <td>tertiary</td>\n",
       "      <td>unknown</td>\n",
       "      <td>12</td>\n",
       "      <td>may</td>\n",
       "      <td>261</td>\n",
       "      <td>1</td>\n",
       "      <td>unknown</td>\n",
       "      <td>0</td>\n",
       "    </tr>\n",
       "    <tr>\n",
       "      <th>1</th>\n",
       "      <td>44</td>\n",
       "      <td>4</td>\n",
       "      <td>2</td>\n",
       "      <td>secondary</td>\n",
       "      <td>unknown</td>\n",
       "      <td>12</td>\n",
       "      <td>may</td>\n",
       "      <td>151</td>\n",
       "      <td>1</td>\n",
       "      <td>unknown</td>\n",
       "      <td>0</td>\n",
       "    </tr>\n",
       "    <tr>\n",
       "      <th>2</th>\n",
       "      <td>33</td>\n",
       "      <td>1</td>\n",
       "      <td>0</td>\n",
       "      <td>secondary</td>\n",
       "      <td>unknown</td>\n",
       "      <td>12</td>\n",
       "      <td>may</td>\n",
       "      <td>76</td>\n",
       "      <td>1</td>\n",
       "      <td>unknown</td>\n",
       "      <td>0</td>\n",
       "    </tr>\n",
       "    <tr>\n",
       "      <th>3</th>\n",
       "      <td>47</td>\n",
       "      <td>0</td>\n",
       "      <td>0</td>\n",
       "      <td>unknown</td>\n",
       "      <td>unknown</td>\n",
       "      <td>12</td>\n",
       "      <td>may</td>\n",
       "      <td>92</td>\n",
       "      <td>1</td>\n",
       "      <td>unknown</td>\n",
       "      <td>0</td>\n",
       "    </tr>\n",
       "    <tr>\n",
       "      <th>4</th>\n",
       "      <td>33</td>\n",
       "      <td>5</td>\n",
       "      <td>2</td>\n",
       "      <td>unknown</td>\n",
       "      <td>unknown</td>\n",
       "      <td>12</td>\n",
       "      <td>may</td>\n",
       "      <td>198</td>\n",
       "      <td>1</td>\n",
       "      <td>unknown</td>\n",
       "      <td>0</td>\n",
       "    </tr>\n",
       "  </tbody>\n",
       "</table>\n",
       "</div>"
      ],
      "text/plain": [
       "   age  job  marital education_qual call_type  day  mon  dur  num_calls  \\\n",
       "0   58    8        0       tertiary   unknown   12  may  261          1   \n",
       "1   44    4        2      secondary   unknown   12  may  151          1   \n",
       "2   33    1        0      secondary   unknown   12  may   76          1   \n",
       "3   47    0        0        unknown   unknown   12  may   92          1   \n",
       "4   33    5        2        unknown   unknown   12  may  198          1   \n",
       "\n",
       "  prev_outcome  y  \n",
       "0      unknown  0  \n",
       "1      unknown  0  \n",
       "2      unknown  0  \n",
       "3      unknown  0  \n",
       "4      unknown  0  "
      ]
     },
     "execution_count": 55,
     "metadata": {},
     "output_type": "execute_result"
    }
   ],
   "source": [
    "data.head()"
   ]
  },
  {
   "cell_type": "code",
   "execution_count": null,
   "id": "c8289810",
   "metadata": {},
   "outputs": [],
   "source": []
  },
  {
   "cell_type": "code",
   "execution_count": null,
   "id": "c6e9faaa",
   "metadata": {},
   "outputs": [],
   "source": []
  },
  {
   "cell_type": "code",
   "execution_count": null,
   "id": "b79e981b",
   "metadata": {},
   "outputs": [],
   "source": []
  },
  {
   "cell_type": "markdown",
   "id": "0cd56475",
   "metadata": {},
   "source": [
    "### 7)mon "
   ]
  },
  {
   "cell_type": "code",
   "execution_count": null,
   "id": "02e4de37",
   "metadata": {},
   "outputs": [],
   "source": [
    "data.head(5)"
   ]
  },
  {
   "cell_type": "code",
   "execution_count": null,
   "id": "655aeb0e",
   "metadata": {},
   "outputs": [],
   "source": [
    "mas = list(data.mon.unique())"
   ]
  },
  {
   "cell_type": "code",
   "execution_count": null,
   "id": "a7e122c2",
   "metadata": {},
   "outputs": [],
   "source": [
    "mas"
   ]
  },
  {
   "cell_type": "code",
   "execution_count": null,
   "id": "f452d61c",
   "metadata": {},
   "outputs": [],
   "source": [
    "m_suc={}\n",
    "for i in mas:\n",
    "    m_suc.update({i : (len(data.loc[(data.mon==i) & (data.y==1)]) / len(data.loc[(data.mon==i)]))*100})"
   ]
  },
  {
   "cell_type": "code",
   "execution_count": null,
   "id": "0f04560f",
   "metadata": {},
   "outputs": [],
   "source": [
    "m_suc"
   ]
  },
  {
   "cell_type": "code",
   "execution_count": null,
   "id": "27f64f21",
   "metadata": {},
   "outputs": [],
   "source": [
    "m_suc = pd.Series(m_suc)"
   ]
  },
  {
   "cell_type": "code",
   "execution_count": null,
   "id": "7dbecd6c",
   "metadata": {},
   "outputs": [],
   "source": [
    "m_suc = m_suc.sort_values()"
   ]
  },
  {
   "cell_type": "code",
   "execution_count": null,
   "id": "7fcb64d2",
   "metadata": {},
   "outputs": [],
   "source": [
    "m_suc"
   ]
  },
  {
   "cell_type": "code",
   "execution_count": null,
   "id": "4a76fc43",
   "metadata": {},
   "outputs": [],
   "source": [
    "mrank = {x: i for i, x in enumerate(m_suc.index)}"
   ]
  },
  {
   "cell_type": "code",
   "execution_count": null,
   "id": "9b698fe1",
   "metadata": {},
   "outputs": [],
   "source": [
    "mrank"
   ]
  },
  {
   "cell_type": "code",
   "execution_count": null,
   "id": "ed130956",
   "metadata": {},
   "outputs": [],
   "source": [
    "data.mon =data.mon.map(mrank)"
   ]
  },
  {
   "cell_type": "code",
   "execution_count": null,
   "id": "94c12887",
   "metadata": {},
   "outputs": [],
   "source": [
    "data"
   ]
  },
  {
   "cell_type": "code",
   "execution_count": null,
   "id": "84ec55a4",
   "metadata": {},
   "outputs": [],
   "source": []
  },
  {
   "cell_type": "markdown",
   "id": "f8c5a9f7",
   "metadata": {},
   "source": [
    "### 8)dur"
   ]
  },
  {
   "cell_type": "markdown",
   "id": "5ffc9493",
   "metadata": {},
   "source": [
    "### Clipping the outliers "
   ]
  },
  {
   "cell_type": "code",
   "execution_count": null,
   "id": "6748eb77",
   "metadata": {},
   "outputs": [],
   "source": [
    "iqr = data['dur'].quantile(0.75) - data['dur'].quantile(0.25)\n",
    "upper_threshold = data['dur'].quantile(0.75) + (1.5 * iqr)\n",
    "lower_threshold = data['dur'].quantile(0.25) - (1.5 * iqr)\n",
    "print('UT  -',round(upper_threshold,3),'LT  -', round(lower_threshold,3))\n",
    "print('Max -',round(data['dur'].max(),3),'Min -',round(data['dur'].min(),3))"
   ]
  },
  {
   "cell_type": "code",
   "execution_count": null,
   "id": "f8362a31",
   "metadata": {},
   "outputs": [],
   "source": [
    "data.dur.describe()"
   ]
  },
  {
   "cell_type": "code",
   "execution_count": null,
   "id": "1a092657",
   "metadata": {},
   "outputs": [],
   "source": [
    "data.dur = data.dur.clip(min(data.dur), upper_threshold)\n",
    "data.dur.describe()"
   ]
  },
  {
   "cell_type": "markdown",
   "id": "48284e02",
   "metadata": {},
   "source": [
    "### 9)num_calls"
   ]
  },
  {
   "cell_type": "code",
   "execution_count": null,
   "id": "84601fce",
   "metadata": {},
   "outputs": [],
   "source": [
    "data.num_calls.unique()"
   ]
  },
  {
   "cell_type": "code",
   "execution_count": null,
   "id": "247739ff",
   "metadata": {},
   "outputs": [],
   "source": [
    "data.num_calls.isnull().sum()"
   ]
  },
  {
   "cell_type": "markdown",
   "id": "bb02eb78",
   "metadata": {},
   "source": [
    "### Clipping the outliers"
   ]
  },
  {
   "cell_type": "code",
   "execution_count": null,
   "id": "523bfd83",
   "metadata": {},
   "outputs": [],
   "source": [
    "iqr = data['num_calls'].quantile(0.75) - data['num_calls'].quantile(0.25)\n",
    "upper_threshold = data['num_calls'].quantile(0.75) + (1.5 * iqr)\n",
    "lower_threshold = data['num_calls'].quantile(0.25) - (1.5 * iqr)\n",
    "print('UT  -',round(upper_threshold,3),'LT  -', round(lower_threshold,3))\n",
    "print('Max -',round(data['num_calls'].max(),3),'Min -',round(data['num_calls'].min(),3))"
   ]
  },
  {
   "cell_type": "code",
   "execution_count": null,
   "id": "69a0f069",
   "metadata": {},
   "outputs": [],
   "source": [
    "data.num_calls.describe()"
   ]
  },
  {
   "cell_type": "code",
   "execution_count": null,
   "id": "76fedc4b",
   "metadata": {},
   "outputs": [],
   "source": [
    "data.num_calls = data.num_calls.clip(min(data.num_calls), upper_threshold)\n",
    "data.num_calls.describe()"
   ]
  },
  {
   "cell_type": "code",
   "execution_count": null,
   "id": "ed958f5a",
   "metadata": {},
   "outputs": [],
   "source": []
  },
  {
   "cell_type": "code",
   "execution_count": null,
   "id": "c595ff58",
   "metadata": {},
   "outputs": [],
   "source": []
  },
  {
   "cell_type": "markdown",
   "id": "527f943b",
   "metadata": {},
   "source": [
    "### 9)prev_outcome"
   ]
  },
  {
   "cell_type": "code",
   "execution_count": null,
   "id": "bac09c84",
   "metadata": {},
   "outputs": [],
   "source": [
    "pre = list(data.prev_outcome.unique())"
   ]
  },
  {
   "cell_type": "code",
   "execution_count": null,
   "id": "b6803027",
   "metadata": {},
   "outputs": [],
   "source": [
    "pre"
   ]
  },
  {
   "cell_type": "code",
   "execution_count": null,
   "id": "dfaf822e",
   "metadata": {},
   "outputs": [],
   "source": [
    "p_suc={}\n",
    "for i in pre:\n",
    "    p_suc.update({i : (len(data.loc[(data.prev_outcome==i) & (data.y==1)]) / len(data.loc[(data.prev_outcome==i)]))*100})"
   ]
  },
  {
   "cell_type": "code",
   "execution_count": null,
   "id": "b211ebbe",
   "metadata": {},
   "outputs": [],
   "source": [
    "p_suc"
   ]
  },
  {
   "cell_type": "code",
   "execution_count": null,
   "id": "99d49a9e",
   "metadata": {},
   "outputs": [],
   "source": [
    "p_suc = pd.Series(p_suc)"
   ]
  },
  {
   "cell_type": "code",
   "execution_count": null,
   "id": "ca840580",
   "metadata": {},
   "outputs": [],
   "source": [
    "p_suc = p_suc.sort_values()"
   ]
  },
  {
   "cell_type": "code",
   "execution_count": null,
   "id": "024a5a84",
   "metadata": {},
   "outputs": [],
   "source": [
    "p_suc"
   ]
  },
  {
   "cell_type": "code",
   "execution_count": null,
   "id": "d39e707d",
   "metadata": {},
   "outputs": [],
   "source": [
    "prank = {x: i for i, x in enumerate(p_suc.index)}"
   ]
  },
  {
   "cell_type": "code",
   "execution_count": null,
   "id": "337667df",
   "metadata": {},
   "outputs": [],
   "source": [
    "prank"
   ]
  },
  {
   "cell_type": "code",
   "execution_count": null,
   "id": "369d5c38",
   "metadata": {},
   "outputs": [],
   "source": [
    "data.prev_outcome =data.prev_outcome.map(prank)"
   ]
  },
  {
   "cell_type": "code",
   "execution_count": null,
   "id": "286a9321",
   "metadata": {},
   "outputs": [],
   "source": [
    "data"
   ]
  },
  {
   "cell_type": "markdown",
   "id": "b18e7913",
   "metadata": {},
   "source": [
    "# Preprocessing"
   ]
  },
  {
   "cell_type": "markdown",
   "id": "48f30bc7",
   "metadata": {},
   "source": [
    "### y-target"
   ]
  },
  {
   "cell_type": "code",
   "execution_count": null,
   "id": "6d4b5316",
   "metadata": {},
   "outputs": [],
   "source": [
    "y = list(data.y.unique())"
   ]
  },
  {
   "cell_type": "code",
   "execution_count": null,
   "id": "79b19ab1",
   "metadata": {},
   "outputs": [],
   "source": [
    "y"
   ]
  },
  {
   "cell_type": "code",
   "execution_count": null,
   "id": "6522452d",
   "metadata": {},
   "outputs": [],
   "source": [
    "fail = len(data.loc[data.y==0])*100/len(data)\n",
    "sux = len(data.loc[data.y==1])*100/len(data)"
   ]
  },
  {
   "cell_type": "code",
   "execution_count": null,
   "id": "b52e0e27",
   "metadata": {},
   "outputs": [],
   "source": [
    "fail+sux"
   ]
  },
  {
   "cell_type": "code",
   "execution_count": null,
   "id": "71db13b4",
   "metadata": {},
   "outputs": [],
   "source": [
    "imb = [fail,sux]"
   ]
  },
  {
   "cell_type": "code",
   "execution_count": null,
   "id": "dc633600",
   "metadata": {},
   "outputs": [],
   "source": [
    "imb"
   ]
  },
  {
   "cell_type": "code",
   "execution_count": null,
   "id": "53db0e09",
   "metadata": {},
   "outputs": [],
   "source": []
  },
  {
   "cell_type": "code",
   "execution_count": null,
   "id": "741b8850",
   "metadata": {},
   "outputs": [],
   "source": [
    "imb = pd.DataFrame(imb, columns=['% Split'], index = ['Fail','Success'])"
   ]
  },
  {
   "cell_type": "code",
   "execution_count": null,
   "id": "fc435a46",
   "metadata": {},
   "outputs": [],
   "source": [
    "imb.plot(kind='bar', title='Count (target)');"
   ]
  },
  {
   "cell_type": "code",
   "execution_count": null,
   "id": "95ed18db",
   "metadata": {},
   "outputs": [],
   "source": [
    "imb"
   ]
  },
  {
   "cell_type": "code",
   "execution_count": null,
   "id": "b635b5ea",
   "metadata": {},
   "outputs": [],
   "source": [
    "X = data.iloc[:,:10]"
   ]
  },
  {
   "cell_type": "code",
   "execution_count": null,
   "id": "95cef0c8",
   "metadata": {},
   "outputs": [],
   "source": [
    "len(X.columns)"
   ]
  },
  {
   "cell_type": "code",
   "execution_count": null,
   "id": "ea35eb67",
   "metadata": {},
   "outputs": [],
   "source": [
    "X.columns"
   ]
  },
  {
   "cell_type": "code",
   "execution_count": null,
   "id": "062f316f",
   "metadata": {},
   "outputs": [],
   "source": [
    "y = data.loc[:,'y']"
   ]
  },
  {
   "cell_type": "code",
   "execution_count": null,
   "id": "6b34f752",
   "metadata": {},
   "outputs": [],
   "source": [
    "y"
   ]
  },
  {
   "cell_type": "code",
   "execution_count": null,
   "id": "0f2e4a42",
   "metadata": {},
   "outputs": [],
   "source": [
    "len(y[y==0])*100/len(y),len(y[y==1])*100/len(y)"
   ]
  },
  {
   "cell_type": "code",
   "execution_count": null,
   "id": "da7e67dc",
   "metadata": {},
   "outputs": [],
   "source": [
    "len(y[y==0])+len(y[y==1])-len(y)"
   ]
  },
  {
   "cell_type": "code",
   "execution_count": null,
   "id": "ce6293d4",
   "metadata": {},
   "outputs": [],
   "source": []
  },
  {
   "cell_type": "code",
   "execution_count": null,
   "id": "e9143d26",
   "metadata": {},
   "outputs": [],
   "source": [
    "import imblearn"
   ]
  },
  {
   "cell_type": "code",
   "execution_count": null,
   "id": "a0e6c649",
   "metadata": {},
   "outputs": [],
   "source": [
    "from imblearn.under_sampling import ClusterCentroids"
   ]
  },
  {
   "cell_type": "code",
   "execution_count": null,
   "id": "cba300e5",
   "metadata": {},
   "outputs": [],
   "source": [
    "cc = ClusterCentroids(sampling_strategy={0: 10000})"
   ]
  },
  {
   "cell_type": "code",
   "execution_count": null,
   "id": "0deba97c",
   "metadata": {},
   "outputs": [],
   "source": [
    "X_cc, y_cc = cc.fit_resample(X, y)"
   ]
  },
  {
   "cell_type": "code",
   "execution_count": null,
   "id": "38e5f6c9",
   "metadata": {},
   "outputs": [],
   "source": [
    "len(X_cc), len(y_cc)"
   ]
  },
  {
   "cell_type": "code",
   "execution_count": null,
   "id": "7d5c8b65",
   "metadata": {},
   "outputs": [],
   "source": [
    "len(y_cc.loc[y_cc==0]),len(y_cc.loc[y_cc==1])"
   ]
  },
  {
   "cell_type": "code",
   "execution_count": null,
   "id": "77e070b8",
   "metadata": {},
   "outputs": [],
   "source": [
    "len(y_cc.loc[y_cc==0])+len(y_cc.loc[y_cc==1]), len(y_cc)"
   ]
  },
  {
   "cell_type": "code",
   "execution_count": null,
   "id": "7c26cd4c",
   "metadata": {},
   "outputs": [],
   "source": [
    "len(y_cc.loc[y_cc==0])*100/len(y_cc),len(y_cc.loc[y_cc==1])*100/len(y_cc)"
   ]
  },
  {
   "cell_type": "code",
   "execution_count": null,
   "id": "df127018",
   "metadata": {},
   "outputs": [],
   "source": [
    "X_cc = pd.DataFrame(X_cc)"
   ]
  },
  {
   "cell_type": "code",
   "execution_count": null,
   "id": "1486e413",
   "metadata": {},
   "outputs": [],
   "source": [
    "y_cc = pd.DataFrame(y_cc)"
   ]
  },
  {
   "cell_type": "code",
   "execution_count": null,
   "id": "827021d3",
   "metadata": {},
   "outputs": [],
   "source": [
    "un = pd.concat([X_cc,y_cc],axis=1)"
   ]
  },
  {
   "cell_type": "code",
   "execution_count": null,
   "id": "d7a250e5",
   "metadata": {},
   "outputs": [],
   "source": [
    "len(un)"
   ]
  },
  {
   "cell_type": "code",
   "execution_count": null,
   "id": "6a51d84a",
   "metadata": {},
   "outputs": [],
   "source": [
    "un.head()"
   ]
  },
  {
   "cell_type": "code",
   "execution_count": null,
   "id": "8080d0f3",
   "metadata": {},
   "outputs": [],
   "source": []
  },
  {
   "cell_type": "markdown",
   "id": "e3e6dd7e",
   "metadata": {},
   "source": [
    "## Performing - SMOTEENN"
   ]
  },
  {
   "cell_type": "code",
   "execution_count": null,
   "id": "b5636a61",
   "metadata": {},
   "outputs": [],
   "source": []
  },
  {
   "cell_type": "code",
   "execution_count": null,
   "id": "c2384b4f",
   "metadata": {},
   "outputs": [],
   "source": [
    "from imblearn.combine import SMOTEENN\n",
    "\n",
    "\n",
    "smt = SMOTEENN(sampling_strategy='all')\n",
    "X_smt, y_smt = smt.fit_resample(X, y)\n",
    "\n"
   ]
  },
  {
   "cell_type": "code",
   "execution_count": null,
   "id": "478bc6e5",
   "metadata": {},
   "outputs": [],
   "source": [
    "len(X_smt),len(y_smt)"
   ]
  },
  {
   "cell_type": "code",
   "execution_count": null,
   "id": "9d3d9f91",
   "metadata": {},
   "outputs": [],
   "source": [
    "y_smt.shape,X_smt.shape"
   ]
  },
  {
   "cell_type": "code",
   "execution_count": null,
   "id": "584f4d40",
   "metadata": {},
   "outputs": [],
   "source": [
    "df = pd.concat([X_smt,y_smt],axis=1)"
   ]
  },
  {
   "cell_type": "code",
   "execution_count": null,
   "id": "579045ae",
   "metadata": {},
   "outputs": [],
   "source": [
    "df"
   ]
  },
  {
   "cell_type": "code",
   "execution_count": null,
   "id": "141f8be6",
   "metadata": {},
   "outputs": [],
   "source": [
    "l0=df[['age','dur']].values\n",
    "k0=df['y'].values"
   ]
  },
  {
   "cell_type": "code",
   "execution_count": null,
   "id": "33ea56f6",
   "metadata": {},
   "outputs": [],
   "source": [
    "l1=data[['age','dur']].values\n",
    "k1=data['y'].values"
   ]
  },
  {
   "cell_type": "code",
   "execution_count": null,
   "id": "0878453a",
   "metadata": {},
   "outputs": [],
   "source": [
    "plot_2d_space(l1,k1, 'Original Plot')\n",
    "plot_2d_space(l0,k0, 'SMOTE & ENN')"
   ]
  },
  {
   "cell_type": "code",
   "execution_count": null,
   "id": "1e782839",
   "metadata": {},
   "outputs": [],
   "source": [
    "fail = len(df.loc[df.y==0])*100/len(df)\n",
    "sux = len(df.loc[df.y==1])*100/len(df)"
   ]
  },
  {
   "cell_type": "code",
   "execution_count": null,
   "id": "ba690e32",
   "metadata": {},
   "outputs": [],
   "source": [
    "fail+sux,fail,sux"
   ]
  },
  {
   "cell_type": "code",
   "execution_count": null,
   "id": "d974ec89",
   "metadata": {},
   "outputs": [],
   "source": [
    "imb = [fail,sux]\n",
    "imb = pd.DataFrame(imb, columns=['% Split'], index = ['Fail','Success'])\n",
    "imb.plot(kind='bar', title='Count (target)')"
   ]
  },
  {
   "cell_type": "code",
   "execution_count": null,
   "id": "ee98bd79",
   "metadata": {},
   "outputs": [],
   "source": []
  },
  {
   "cell_type": "markdown",
   "id": "ec76582f",
   "metadata": {},
   "source": [
    "# Will use SMOTE to balance it more precisely"
   ]
  },
  {
   "cell_type": "code",
   "execution_count": null,
   "id": "631e9451",
   "metadata": {},
   "outputs": [],
   "source": [
    "from imblearn.over_sampling import SMOTE\n",
    "\n",
    "\n",
    "smote = SMOTE(sampling_strategy='minority')\n",
    "X_sm, y_sm = smote.fit_resample(X_smt, y_smt)\n"
   ]
  },
  {
   "cell_type": "code",
   "execution_count": null,
   "id": "d8ede67b",
   "metadata": {},
   "outputs": [],
   "source": [
    "len(X_sm),len(y_sm)"
   ]
  },
  {
   "cell_type": "code",
   "execution_count": null,
   "id": "863e7f52",
   "metadata": {},
   "outputs": [],
   "source": [
    "dc = pd.concat([X_sm,y_sm], axis = 1)"
   ]
  },
  {
   "cell_type": "code",
   "execution_count": null,
   "id": "8e612319",
   "metadata": {},
   "outputs": [],
   "source": [
    "len(dc.loc[dc.y==0]),len(dc.loc[dc.y==1])"
   ]
  },
  {
   "cell_type": "code",
   "execution_count": null,
   "id": "42519bcc",
   "metadata": {},
   "outputs": [],
   "source": [
    "l2=dc[['age','dur']].values\n",
    "k2=dc['y'].values"
   ]
  },
  {
   "cell_type": "code",
   "execution_count": null,
   "id": "9dff1944",
   "metadata": {},
   "outputs": [],
   "source": [
    "plot_2d_space(l1,k1, 'Original data')\n",
    "plot_2d_space(l2,k2, 'SMOTE Over-Sampling')\n"
   ]
  },
  {
   "cell_type": "code",
   "execution_count": null,
   "id": "e9b8c501",
   "metadata": {},
   "outputs": [],
   "source": [
    "fail = len(dc.loc[dc.y==0])*100/len(dc)\n",
    "sux = len(dc.loc[dc.y==1])*100/len(dc)"
   ]
  },
  {
   "cell_type": "code",
   "execution_count": null,
   "id": "f4014eb7",
   "metadata": {},
   "outputs": [],
   "source": [
    "imb = [fail,sux]\n",
    "imb = pd.DataFrame(imb, columns=['% Split'], index = ['Fail','Success'])\n",
    "imb.plot(kind='bar', title='Count (target)')"
   ]
  },
  {
   "cell_type": "code",
   "execution_count": null,
   "id": "dd29125e",
   "metadata": {},
   "outputs": [],
   "source": []
  },
  {
   "cell_type": "code",
   "execution_count": null,
   "id": "2ff8c0b8",
   "metadata": {},
   "outputs": [],
   "source": []
  },
  {
   "cell_type": "code",
   "execution_count": null,
   "id": "2c4f892a",
   "metadata": {},
   "outputs": [],
   "source": []
  },
  {
   "cell_type": "markdown",
   "id": "69468451",
   "metadata": {},
   "source": [
    "### Splitting Data"
   ]
  },
  {
   "cell_type": "code",
   "execution_count": null,
   "id": "0b1ba9a1",
   "metadata": {},
   "outputs": [],
   "source": [
    "X = dc.iloc[:,:10] #array of features\n",
    "y = dc.iloc[:,-1] #array of targets"
   ]
  },
  {
   "cell_type": "code",
   "execution_count": null,
   "id": "59c67787",
   "metadata": {},
   "outputs": [],
   "source": [
    "len(X),len(y)"
   ]
  },
  {
   "cell_type": "code",
   "execution_count": null,
   "id": "b99714d5",
   "metadata": {},
   "outputs": [],
   "source": [
    "from sklearn.model_selection import train_test_split\n",
    "X_train, X_test, y_train, y_test = train_test_split(X, y, test_size=0.2, random_state=7)"
   ]
  },
  {
   "cell_type": "code",
   "execution_count": null,
   "id": "10431091",
   "metadata": {},
   "outputs": [],
   "source": [
    "len(X_train),len(X_test)"
   ]
  },
  {
   "cell_type": "code",
   "execution_count": null,
   "id": "d8e09b99",
   "metadata": {},
   "outputs": [],
   "source": []
  },
  {
   "cell_type": "markdown",
   "id": "5d053112",
   "metadata": {},
   "source": [
    "### Scaling "
   ]
  },
  {
   "cell_type": "code",
   "execution_count": null,
   "id": "2301283a",
   "metadata": {},
   "outputs": [],
   "source": [
    "from sklearn.preprocessing import StandardScaler\n",
    "scaler=StandardScaler()\n",
    "scaler.fit(X_train)\n",
    "X_train = scaler.transform(X_train)\n",
    "X_test = scaler.transform(X_test)"
   ]
  },
  {
   "cell_type": "code",
   "execution_count": null,
   "id": "ae985da9",
   "metadata": {},
   "outputs": [],
   "source": []
  },
  {
   "cell_type": "markdown",
   "id": "13c9d8c8",
   "metadata": {},
   "source": [
    "## Logistic Regression"
   ]
  },
  {
   "cell_type": "code",
   "execution_count": null,
   "id": "bd04abf6",
   "metadata": {},
   "outputs": [],
   "source": [
    "from sklearn.linear_model import LogisticRegression\n",
    "log = LogisticRegression()\n",
    "log.fit(X_train,y_train)"
   ]
  },
  {
   "cell_type": "code",
   "execution_count": null,
   "id": "6132d725",
   "metadata": {},
   "outputs": [],
   "source": []
  },
  {
   "cell_type": "code",
   "execution_count": null,
   "id": "cb22844f",
   "metadata": {},
   "outputs": [],
   "source": []
  },
  {
   "cell_type": "markdown",
   "id": "410c062e",
   "metadata": {},
   "source": [
    "### Training Data - Visualization"
   ]
  },
  {
   "cell_type": "code",
   "execution_count": null,
   "id": "4d25c57a",
   "metadata": {},
   "outputs": [],
   "source": [
    "y_train=y_train.values"
   ]
  },
  {
   "cell_type": "code",
   "execution_count": null,
   "id": "89d32425",
   "metadata": {},
   "outputs": [],
   "source": [
    "pred_1=log.predict(X_test)"
   ]
  },
  {
   "cell_type": "code",
   "execution_count": null,
   "id": "5a2624e8",
   "metadata": {},
   "outputs": [],
   "source": [
    "y_test=y_test.values"
   ]
  },
  {
   "cell_type": "code",
   "execution_count": null,
   "id": "8d9bdccd",
   "metadata": {},
   "outputs": [],
   "source": [
    "pred_test = pd.DataFrame({'target': y_test, 'prediction' : pred_1})"
   ]
  },
  {
   "cell_type": "code",
   "execution_count": null,
   "id": "f74578d8",
   "metadata": {},
   "outputs": [],
   "source": [
    "pred_test"
   ]
  },
  {
   "cell_type": "code",
   "execution_count": null,
   "id": "23e34489",
   "metadata": {},
   "outputs": [],
   "source": []
  },
  {
   "cell_type": "markdown",
   "id": "94e4ff53",
   "metadata": {},
   "source": [
    "## Calculating Loss Function"
   ]
  },
  {
   "cell_type": "markdown",
   "id": "3d4cf4c5",
   "metadata": {},
   "source": [
    "F1 Score"
   ]
  },
  {
   "cell_type": "code",
   "execution_count": null,
   "id": "c3daf059",
   "metadata": {},
   "outputs": [],
   "source": [
    "from sklearn.metrics import f1_score\n",
    "\n",
    "# Assuming you have predicted labels stored in y_pred and true labels in y_true\n",
    "f1 = f1_score(pred_test.target, pred_test.prediction)\n",
    "\n",
    "print(\"F1 score:\", f1)\n"
   ]
  }
 ],
 "metadata": {
  "kernelspec": {
   "display_name": "Python 3 (ipykernel)",
   "language": "python",
   "name": "python3"
  },
  "language_info": {
   "codemirror_mode": {
    "name": "ipython",
    "version": 3
   },
   "file_extension": ".py",
   "mimetype": "text/x-python",
   "name": "python",
   "nbconvert_exporter": "python",
   "pygments_lexer": "ipython3",
   "version": "3.10.9"
  }
 },
 "nbformat": 4,
 "nbformat_minor": 5
}
